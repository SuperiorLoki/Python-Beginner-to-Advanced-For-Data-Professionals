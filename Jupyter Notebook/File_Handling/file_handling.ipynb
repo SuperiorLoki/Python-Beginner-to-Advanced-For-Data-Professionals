{
 "cells": [
  {
   "cell_type": "code",
   "execution_count": 3,
   "id": "cc5e63a6-83e8-4333-9dd8-bccbd674a8eb",
   "metadata": {},
   "outputs": [],
   "source": [
    "#You can open a text file that is in the same folder using this command. The r in this statement stands for read mode\n",
    "f=open(\"funny.txt\",\"r\")"
   ]
  },
  {
   "cell_type": "code",
   "execution_count": 4,
   "id": "8c1dcd80-ee9c-473f-a75d-0fd2341177f3",
   "metadata": {},
   "outputs": [
    {
     "name": "stdout",
     "output_type": "stream",
     "text": [
      "Teacher: Why are you always so late?\n",
      "\n",
      "Student: Because of the sign\n",
      "\n",
      "Teacher: What sign?\n",
      "\n",
      "Student: The one that says, \"School Ahead, Go Slow\"\n"
     ]
    }
   ],
   "source": [
    "for line in f:\n",
    "    print(line)\n",
    "\n",
    "#It is important to close the file once you are done with it\n",
    "f.close()"
   ]
  },
  {
   "cell_type": "code",
   "execution_count": 9,
   "id": "77160e92-8cf5-4b98-bead-1e1955d9eaee",
   "metadata": {},
   "outputs": [
    {
     "name": "stdout",
     "output_type": "stream",
     "text": [
      "Teacher: Why are you always so late?\n",
      "\n",
      "Student: Because of the sign\n",
      "\n",
      "Teacher: What sign?\n",
      "\n",
      "Student: The one that says, \"School Ahead, Go Slow\"\n"
     ]
    }
   ],
   "source": [
    "#If you don't want to close the file everytime, do this:\n",
    "#In this scenario, f becomes the variable\n",
    "with open(\"funny.txt\", \"r\") as f:\n",
    "    #When this block ends, the file will automatically close\n",
    "    for line in f:\n",
    "        print(line)"
   ]
  },
  {
   "cell_type": "code",
   "execution_count": 10,
   "id": "963d0349-8639-425c-8391-36f3863ed264",
   "metadata": {},
   "outputs": [
    {
     "name": "stdout",
     "output_type": "stream",
     "text": [
      "['Teacher: Why are you always so late?\\n', 'Student: Because of the sign\\n', 'Teacher: What sign?\\n', 'Student: The one that says, \"School Ahead, Go Slow\"']\n"
     ]
    }
   ],
   "source": [
    "with open(\"funny.txt\", \"r\") as f:\n",
    "    #To get the lines in a list format\n",
    "    lines = f.readlines()\n",
    "    print(lines)"
   ]
  },
  {
   "cell_type": "code",
   "execution_count": 20,
   "id": "d62d4273-ca1d-4ee2-a40f-7a91176395dd",
   "metadata": {},
   "outputs": [],
   "source": [
    "#Creating a file. The w will stand for writing a file\n",
    "with open(\"story.txt\", \"w\") as f:\n",
    "    #The \\n is to create a new line \n",
    "    f.write(\"There once lived a kid named HP\\n\")\n",
    "    f.write(\"He was the best basektball player of all time\\n\")\n",
    "    "
   ]
  },
  {
   "cell_type": "code",
   "execution_count": 23,
   "id": "3ce931c5-f7e2-4f7a-93ad-618c4c3fd9db",
   "metadata": {},
   "outputs": [],
   "source": [
    "#this is append mode, where you can add on to the same file \n",
    "#if you were to use \"w\" instead, then there will be a new file that is created\n",
    "with open(\"story.txt\", \"a\") as f:\n",
    "    #The \\n is to create a new line \n",
    "    f.write(\"He also enjoys coding\\n\")"
   ]
  },
  {
   "cell_type": "code",
   "execution_count": 24,
   "id": "be53cfe2-9399-42eb-be83-3e7c8569fbb9",
   "metadata": {},
   "outputs": [],
   "source": [
    "#to write multiple lines at a go\n",
    "with open(\"story.txt\", \"a\") as f:\n",
    "    #The \\n is to create a new line \n",
    "    f.writelines([\"He enjoys Python\\n\",\n",
    "                 \"But he also knows Java\"]\n",
    "                )"
   ]
  },
  {
   "cell_type": "markdown",
   "id": "524bcc31-b57a-4e42-8df9-7fea17e31620",
   "metadata": {},
   "source": [
    "Data Analytics With Sports Stats"
   ]
  },
  {
   "cell_type": "code",
   "execution_count": 28,
   "id": "2053de48-ce79-4a26-b760-7e8b7b5e7961",
   "metadata": {},
   "outputs": [
    {
     "name": "stdout",
     "output_type": "stream",
     "text": [
      "Rohit,Match#1,9\n",
      "\n",
      "Shakib,Match#2,56\n",
      "\n",
      "Babar,Match#3,56\n",
      "\n",
      "Rohit,Match#4,120\n",
      "\n",
      "Rohit,Match#5,105\n",
      "\n",
      "Shakib,Match#6,78\n",
      "\n",
      "Rohit,Match#7,140\n",
      "\n",
      "Babar,Match#8,45\n",
      "\n",
      "Rohit,Match#9,130\n",
      "\n",
      "Shakib,Match#10,102\n",
      "\n",
      "Babar,Match#11,120\n",
      "\n",
      "Babar ,Match#12,5\n",
      "\n",
      "Shakib,Match#13,72\n",
      "\n",
      "Babar,Match#14,67\n"
     ]
    }
   ],
   "source": [
    "with open(\"scores.csv\", \"r\") as f:\n",
    "    for line in f:\n",
    "        print(line)"
   ]
  },
  {
   "cell_type": "code",
   "execution_count": 31,
   "id": "5a964de1-4759-477d-83e4-1c532a915b7d",
   "metadata": {},
   "outputs": [
    {
     "name": "stdout",
     "output_type": "stream",
     "text": [
      "Rohit Match#14 9\n",
      "\n",
      "Shakib Match#14 56\n",
      "\n",
      "Babar Match#14 56\n",
      "\n",
      "Rohit Match#14 120\n",
      "\n",
      "Rohit Match#14 105\n",
      "\n",
      "Shakib Match#14 78\n",
      "\n",
      "Rohit Match#14 140\n",
      "\n",
      "Babar Match#14 45\n",
      "\n",
      "Rohit Match#14 130\n",
      "\n",
      "Shakib Match#14 102\n",
      "\n",
      "Babar Match#14 120\n",
      "\n",
      "Babar  Match#14 5\n",
      "\n",
      "Shakib Match#14 72\n",
      "\n",
      "Babar Match#14 67\n"
     ]
    }
   ],
   "source": [
    "#We need to separate the names, the match number, and the score so we use the split method\n",
    "with open(\"scores.csv\", \"r\") as f:\n",
    "    for line in f:\n",
    "        #The split function will split at every comma and creates three substrings\n",
    "        #We are setting those substrings to different variables\n",
    "        #The _ means we set it to nothing \n",
    "        player, _, score = line.split(\",\")\n",
    "        print(player, match_id, score)"
   ]
  },
  {
   "cell_type": "code",
   "execution_count": 38,
   "id": "4fd38246-76ef-4bd4-bab9-c7317391809d",
   "metadata": {},
   "outputs": [
    {
     "name": "stdout",
     "output_type": "stream",
     "text": [
      "{'Rohit': [9, 120, 105, 140, 130], 'Shakib': [56, 78, 102, 72], 'Babar': [56, 45, 120, 5, 67]}\n"
     ]
    }
   ],
   "source": [
    "#We need to organize this information into a dictionary\n",
    "player_scores = {}\n",
    "\n",
    "with open(\"scores.csv\", \"r\") as f:\n",
    "    for line in f:\n",
    "        player, _, score = line.split(\",\")\n",
    "        score = int(score.strip())\n",
    "        player=player.strip()\n",
    "        if player in player_scores:\n",
    "            player_scores[player].append(score)\n",
    "        else:\n",
    "            player_scores[player] = [score]\n",
    "\n",
    "#The output is not very neat, so we still need to format it further which I will add in this same cell\n",
    "print(player_scores)"
   ]
  },
  {
   "cell_type": "code",
   "execution_count": 39,
   "id": "729cd3c8-5f49-430d-9434-ee8a7b48e2a2",
   "metadata": {},
   "outputs": [
    {
     "name": "stdout",
     "output_type": "stream",
     "text": [
      "Rohit Stats --> Min: 9, Max: 140, Average: 100.8\n",
      "Shakib Stats --> Min: 56, Max: 102, Average: 77.0\n",
      "Babar Stats --> Min: 5, Max: 120, Average: 58.6\n"
     ]
    }
   ],
   "source": [
    "#Analyzing the data\n",
    "for player, scores in player_scores.items():\n",
    "    minimum = min(scores)\n",
    "    maximum = max(scores)\n",
    "    average = sum(scores)/len(scores)\n",
    "    print(f\"{player} Stats --> Min: {minimum}, Max: {maximum}, Average: {average}\")"
   ]
  },
  {
   "cell_type": "markdown",
   "id": "d78bd24b-8951-440f-9294-efd995dadb1a",
   "metadata": {},
   "source": [
    "To Delete a File "
   ]
  },
  {
   "cell_type": "code",
   "execution_count": 40,
   "id": "66ca22e9-b822-4d30-b769-52b74930ba0b",
   "metadata": {},
   "outputs": [],
   "source": [
    "with open(\"dummy.txt\", \"w\") as f:\n",
    "    f.write(\"what\")\n",
    "\n",
    "import os\n",
    "#remember to check if it exists first, if not there will be an error\n",
    "if os.path.exists(\"dummy.txt\"):\n",
    "    os.remove(\"dummy.txt\")\n",
    "else:\n",
    "    print(\"file does not exist\")"
   ]
  },
  {
   "cell_type": "code",
   "execution_count": null,
   "id": "16c620ac-8532-4c5b-af97-bb1f15b14d2a",
   "metadata": {},
   "outputs": [],
   "source": []
  }
 ],
 "metadata": {
  "kernelspec": {
   "display_name": "Python 3 (ipykernel)",
   "language": "python",
   "name": "python3"
  },
  "language_info": {
   "codemirror_mode": {
    "name": "ipython",
    "version": 3
   },
   "file_extension": ".py",
   "mimetype": "text/x-python",
   "name": "python",
   "nbconvert_exporter": "python",
   "pygments_lexer": "ipython3",
   "version": "3.11.7"
  }
 },
 "nbformat": 4,
 "nbformat_minor": 5
}
