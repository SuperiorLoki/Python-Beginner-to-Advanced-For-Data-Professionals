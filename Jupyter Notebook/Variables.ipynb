{
 "cells": [
  {
   "cell_type": "code",
   "execution_count": 3,
   "id": "abd5d43a-675d-4e74-b746-2c83b203145a",
   "metadata": {},
   "outputs": [],
   "source": [
    "can=\"soda\""
   ]
  },
  {
   "cell_type": "markdown",
   "id": "8183b862-56f5-4593-ad83-d23c6b3d6c60",
   "metadata": {},
   "source": [
    "You do not have to print it for jupyter to print the variable, you just need to type the variable name"
   ]
  },
  {
   "cell_type": "code",
   "execution_count": 4,
   "id": "c1d63801-943c-4c77-bc71-46d4b8bd6fb0",
   "metadata": {},
   "outputs": [
    {
     "data": {
      "text/plain": [
       "'soda'"
      ]
     },
     "execution_count": 4,
     "metadata": {},
     "output_type": "execute_result"
    }
   ],
   "source": [
    "can"
   ]
  },
  {
   "cell_type": "markdown",
   "id": "22edfdad-67ee-418d-9d35-484a71eee85d",
   "metadata": {},
   "source": [
    "You can use the type() command to get the type of the variable "
   ]
  },
  {
   "cell_type": "code",
   "execution_count": 5,
   "id": "f32ae752-ec93-4c9e-8035-1ef54d44bdaa",
   "metadata": {},
   "outputs": [
    {
     "data": {
      "text/plain": [
       "str"
      ]
     },
     "execution_count": 5,
     "metadata": {},
     "output_type": "execute_result"
    }
   ],
   "source": [
    "type(can)"
   ]
  },
  {
   "cell_type": "code",
   "execution_count": 6,
   "id": "5bd9287f-a3be-4153-a060-a212af8a8de3",
   "metadata": {},
   "outputs": [
    {
     "data": {
      "text/plain": [
       "144.9"
      ]
     },
     "execution_count": 6,
     "metadata": {},
     "output_type": "execute_result"
    }
   ],
   "source": [
    "pizza=100\n",
    "samosa=20.5\n",
    "ice_cream=24.4\n",
    "total = pizza + samosa + ice_cream\n",
    "total"
   ]
  },
  {
   "cell_type": "markdown",
   "id": "a1878377-9e66-4886-a7ff-a977218f10cf",
   "metadata": {},
   "source": [
    "When using conditional statements, the variable becomes a boolean statement that says either that the condition is true or false"
   ]
  },
  {
   "cell_type": "code",
   "execution_count": 7,
   "id": "9b28c5a0-6a8b-4717-91ef-6c5a2af22367",
   "metadata": {},
   "outputs": [
    {
     "data": {
      "text/plain": [
       "False"
      ]
     },
     "execution_count": 7,
     "metadata": {},
     "output_type": "execute_result"
    }
   ],
   "source": [
    "budget = total > 150\n",
    "budget"
   ]
  },
  {
   "cell_type": "markdown",
   "id": "eed23c6b-1d85-4750-bef3-aecba4534669",
   "metadata": {},
   "source": [
    "The ID of the two variables will be the same as long as the values are the same, but when one of them is changed the id will also change "
   ]
  },
  {
   "cell_type": "code",
   "execution_count": 9,
   "id": "14b842ee-7e7e-4773-a03f-8c5830a5df2f",
   "metadata": {},
   "outputs": [
    {
     "data": {
      "text/plain": [
       "'basketball'"
      ]
     },
     "execution_count": 9,
     "metadata": {},
     "output_type": "execute_result"
    }
   ],
   "source": [
    "sport = \"basketball\"\n",
    "basketball = sport\n",
    "sport = \"tennis\"\n",
    "basketball"
   ]
  },
  {
   "cell_type": "code",
   "execution_count": 10,
   "id": "a9b598df-ab0a-4177-83e0-f797c5f1d723",
   "metadata": {},
   "outputs": [
    {
     "data": {
      "text/plain": [
       "4625892336"
      ]
     },
     "execution_count": 10,
     "metadata": {},
     "output_type": "execute_result"
    }
   ],
   "source": [
    "id(sport)"
   ]
  },
  {
   "cell_type": "code",
   "execution_count": 11,
   "id": "e812d25b-e436-44d1-b950-178bb9b7efe6",
   "metadata": {},
   "outputs": [
    {
     "data": {
      "text/plain": [
       "4622613552"
      ]
     },
     "execution_count": 11,
     "metadata": {},
     "output_type": "execute_result"
    }
   ],
   "source": [
    "id(basketball)"
   ]
  },
  {
   "cell_type": "markdown",
   "id": "f8e27986-8f7b-4bcb-8356-dcefab764772",
   "metadata": {},
   "source": [
    "Naming Conventions: When naming variables, you cannot use restricted names like True or def.\n",
    "Also, you cannot use special characters like @ or $.\n",
    "The variable name must start with a number or an underscore"
   ]
  },
  {
   "cell_type": "code",
   "execution_count": null,
   "id": "6eef1717-fee8-4e3f-9add-956bc738a65a",
   "metadata": {},
   "outputs": [],
   "source": []
  }
 ],
 "metadata": {
  "kernelspec": {
   "display_name": "Python 3 (ipykernel)",
   "language": "python",
   "name": "python3"
  },
  "language_info": {
   "codemirror_mode": {
    "name": "ipython",
    "version": 3
   },
   "file_extension": ".py",
   "mimetype": "text/x-python",
   "name": "python",
   "nbconvert_exporter": "python",
   "pygments_lexer": "ipython3",
   "version": "3.11.7"
  }
 },
 "nbformat": 4,
 "nbformat_minor": 5
}
