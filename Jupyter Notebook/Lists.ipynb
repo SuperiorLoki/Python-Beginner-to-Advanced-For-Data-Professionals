{
 "cells": [
  {
   "cell_type": "markdown",
   "id": "8b551789-59da-4f39-a488-ca1165e3add4",
   "metadata": {},
   "source": [
    "When you have a lot of items that you need to store that is in the same category, you can use a list"
   ]
  },
  {
   "cell_type": "code",
   "execution_count": 1,
   "id": "acb2e162-f828-4bc6-82f7-c54025c628c2",
   "metadata": {},
   "outputs": [
    {
     "data": {
      "text/plain": [
       "['bread', 'pasta', 'fruits', 'veggies']"
      ]
     },
     "execution_count": 1,
     "metadata": {},
     "output_type": "execute_result"
    }
   ],
   "source": [
    "items = [\"bread\", \"pasta\", \"fruits\", \"veggies\"]\n",
    "items"
   ]
  },
  {
   "cell_type": "code",
   "execution_count": 2,
   "id": "5bdd074a-31e3-4678-b425-0cdced5615c4",
   "metadata": {},
   "outputs": [
    {
     "data": {
      "text/plain": [
       "'bread'"
      ]
     },
     "execution_count": 2,
     "metadata": {},
     "output_type": "execute_result"
    }
   ],
   "source": [
    "items[0]"
   ]
  },
  {
   "cell_type": "code",
   "execution_count": 3,
   "id": "88d72c74-1773-483d-a81a-38dd9bd6a931",
   "metadata": {},
   "outputs": [
    {
     "data": {
      "text/plain": [
       "'veggies'"
      ]
     },
     "execution_count": 3,
     "metadata": {},
     "output_type": "execute_result"
    }
   ],
   "source": [
    "items[3]"
   ]
  },
  {
   "cell_type": "code",
   "execution_count": 5,
   "id": "956e3124-34ab-468c-9597-53f758b66559",
   "metadata": {},
   "outputs": [
    {
     "name": "stdout",
     "output_type": "stream",
     "text": [
      "bread\n",
      "pasta\n",
      "fruits\n",
      "veggies\n"
     ]
    }
   ],
   "source": [
    "#The value of i in for loops will start at 0 which is quite useful for us when iterating through lists \n",
    "for i in range(len(items)):\n",
    "    print(items[i])"
   ]
  },
  {
   "cell_type": "code",
   "execution_count": 6,
   "id": "16695a3e-b609-4662-be12-40816eb81490",
   "metadata": {},
   "outputs": [
    {
     "data": {
      "text/plain": [
       "['bread', 'pasta']"
      ]
     },
     "execution_count": 6,
     "metadata": {},
     "output_type": "execute_result"
    }
   ],
   "source": [
    "items[0:2]"
   ]
  },
  {
   "cell_type": "code",
   "execution_count": 22,
   "id": "9b2a8631-96a4-4b07-9182-4ac7662646a2",
   "metadata": {},
   "outputs": [
    {
     "data": {
      "text/plain": [
       "['bread', 'fruits', 'veggies', 'butter', 'butter']"
      ]
     },
     "execution_count": 22,
     "metadata": {},
     "output_type": "execute_result"
    }
   ],
   "source": [
    "items.append(\"butter\")\n",
    "items"
   ]
  },
  {
   "cell_type": "code",
   "execution_count": 23,
   "id": "f744907f-e662-455f-afd0-cd8d019913a6",
   "metadata": {},
   "outputs": [
    {
     "data": {
      "text/plain": [
       "['bread', 'fruits', 'veggies', 'butter']"
      ]
     },
     "execution_count": 23,
     "metadata": {},
     "output_type": "execute_result"
    }
   ],
   "source": [
    "items.remove(\"butter\")\n",
    "items"
   ]
  },
  {
   "cell_type": "code",
   "execution_count": 26,
   "id": "f3981f6a-e7ce-46ff-894a-971d4e3d6728",
   "metadata": {},
   "outputs": [
    {
     "data": {
      "text/plain": [
       "['bread', 'fruits', 'pasta', 'pasta', 'veggies', 'butter']"
      ]
     },
     "execution_count": 26,
     "metadata": {},
     "output_type": "execute_result"
    }
   ],
   "source": [
    "#This new value will be placed at the specified index\n",
    "items.insert(2, \"pasta\")\n",
    "items"
   ]
  },
  {
   "cell_type": "code",
   "execution_count": 27,
   "id": "cec4f18a-1cb2-4ffd-82af-00030cfa993d",
   "metadata": {},
   "outputs": [],
   "source": [
    "items.remove(\"pasta\")"
   ]
  },
  {
   "cell_type": "code",
   "execution_count": 28,
   "id": "94f8f629-2020-4ccb-9ef7-bd7d2dc57411",
   "metadata": {},
   "outputs": [
    {
     "data": {
      "text/plain": [
       "['bread', 'spinach', 'pasta', 'veggies', 'butter']"
      ]
     },
     "execution_count": 28,
     "metadata": {},
     "output_type": "execute_result"
    }
   ],
   "source": [
    "#You can also replace certain values with another value:\n",
    "items[1] = \"spinach\"\n",
    "items"
   ]
  },
  {
   "cell_type": "code",
   "execution_count": 29,
   "id": "cb268d3f-aff4-4e4a-94d2-1ac432327573",
   "metadata": {},
   "outputs": [
    {
     "data": {
      "text/plain": [
       "['bread', 'spinach', 'pasta', 'almonds']"
      ]
     },
     "execution_count": 29,
     "metadata": {},
     "output_type": "execute_result"
    }
   ],
   "source": [
    "items[3:] = [\"almonds\"]\n",
    "items"
   ]
  },
  {
   "cell_type": "code",
   "execution_count": 30,
   "id": "1d13f49f-ab85-4027-bd84-3fe4cf1281ae",
   "metadata": {},
   "outputs": [
    {
     "data": {
      "text/plain": [
       "False"
      ]
     },
     "execution_count": 30,
     "metadata": {},
     "output_type": "execute_result"
    }
   ],
   "source": [
    "\"rice\" in items"
   ]
  },
  {
   "cell_type": "code",
   "execution_count": 31,
   "id": "ed921ecf-87e5-4cbd-b2b1-2fab7ae6e846",
   "metadata": {},
   "outputs": [
    {
     "data": {
      "text/plain": [
       "True"
      ]
     },
     "execution_count": 31,
     "metadata": {},
     "output_type": "execute_result"
    }
   ],
   "source": [
    "\"bread\" in items"
   ]
  },
  {
   "cell_type": "code",
   "execution_count": null,
   "id": "b8e9e10b-5b18-4242-8532-8cd8b41f35a7",
   "metadata": {},
   "outputs": [],
   "source": []
  },
  {
   "cell_type": "code",
   "execution_count": 32,
   "id": "791503c7-2c80-4d4c-a005-bc801889471a",
   "metadata": {},
   "outputs": [],
   "source": [
    "expenses = [30,1200,45,300]\n",
    "expenses.sort()"
   ]
  },
  {
   "cell_type": "code",
   "execution_count": 33,
   "id": "d8627a23-0da0-4dc5-a2f5-4fdde0cf26e0",
   "metadata": {},
   "outputs": [
    {
     "data": {
      "text/plain": [
       "[30, 45, 300, 1200]"
      ]
     },
     "execution_count": 33,
     "metadata": {},
     "output_type": "execute_result"
    }
   ],
   "source": [
    "expenses"
   ]
  },
  {
   "cell_type": "code",
   "execution_count": 34,
   "id": "cda0aa44-2355-4218-b7ec-c83a5026362b",
   "metadata": {},
   "outputs": [
    {
     "data": {
      "text/plain": [
       "[1200, 300, 45, 30]"
      ]
     },
     "execution_count": 34,
     "metadata": {},
     "output_type": "execute_result"
    }
   ],
   "source": [
    "#Reverse sorting is also possible\n",
    "expenses.sort(reverse=True)\n",
    "expenses"
   ]
  },
  {
   "cell_type": "code",
   "execution_count": 35,
   "id": "066407ae-42f1-4917-8eaa-4dd53da257cc",
   "metadata": {},
   "outputs": [],
   "source": [
    "food_items = [\"bread\", \"pasta\", \"fruits\"]\n",
    "bathroom_items = [\"shampoo\", \"soap\"]\n"
   ]
  },
  {
   "cell_type": "code",
   "execution_count": 36,
   "id": "beb15175-7f02-4e54-9701-d54f44da05d0",
   "metadata": {},
   "outputs": [
    {
     "data": {
      "text/plain": [
       "['bread', 'pasta', 'fruits', 'shampoo', 'soap']"
      ]
     },
     "execution_count": 36,
     "metadata": {},
     "output_type": "execute_result"
    }
   ],
   "source": [
    "new_items = food_items + bathroom_items\n",
    "new_items"
   ]
  },
  {
   "cell_type": "code",
   "execution_count": 37,
   "id": "65aad108-5bb7-462a-b045-a340a44cce23",
   "metadata": {},
   "outputs": [
    {
     "data": {
      "text/plain": [
       "['__add__',\n",
       " '__class__',\n",
       " '__class_getitem__',\n",
       " '__contains__',\n",
       " '__delattr__',\n",
       " '__delitem__',\n",
       " '__dir__',\n",
       " '__doc__',\n",
       " '__eq__',\n",
       " '__format__',\n",
       " '__ge__',\n",
       " '__getattribute__',\n",
       " '__getitem__',\n",
       " '__getstate__',\n",
       " '__gt__',\n",
       " '__hash__',\n",
       " '__iadd__',\n",
       " '__imul__',\n",
       " '__init__',\n",
       " '__init_subclass__',\n",
       " '__iter__',\n",
       " '__le__',\n",
       " '__len__',\n",
       " '__lt__',\n",
       " '__mul__',\n",
       " '__ne__',\n",
       " '__new__',\n",
       " '__reduce__',\n",
       " '__reduce_ex__',\n",
       " '__repr__',\n",
       " '__reversed__',\n",
       " '__rmul__',\n",
       " '__setattr__',\n",
       " '__setitem__',\n",
       " '__sizeof__',\n",
       " '__str__',\n",
       " '__subclasshook__',\n",
       " 'append',\n",
       " 'clear',\n",
       " 'copy',\n",
       " 'count',\n",
       " 'extend',\n",
       " 'index',\n",
       " 'insert',\n",
       " 'pop',\n",
       " 'remove',\n",
       " 'reverse',\n",
       " 'sort']"
      ]
     },
     "execution_count": 37,
     "metadata": {},
     "output_type": "execute_result"
    }
   ],
   "source": [
    "dir(items)"
   ]
  },
  {
   "cell_type": "code",
   "execution_count": 38,
   "id": "183c4813-ec1c-4a51-b794-716de60c1196",
   "metadata": {},
   "outputs": [
    {
     "data": {
      "text/plain": [
       "'fruits'"
      ]
     },
     "execution_count": 38,
     "metadata": {},
     "output_type": "execute_result"
    }
   ],
   "source": [
    "new_items.pop(2)"
   ]
  },
  {
   "cell_type": "code",
   "execution_count": 39,
   "id": "93f78463-b96f-4d62-9716-91138532773b",
   "metadata": {},
   "outputs": [
    {
     "data": {
      "text/plain": [
       "['bread', 'pasta', 'shampoo', 'soap']"
      ]
     },
     "execution_count": 39,
     "metadata": {},
     "output_type": "execute_result"
    }
   ],
   "source": [
    "new_items"
   ]
  },
  {
   "cell_type": "code",
   "execution_count": 41,
   "id": "6f8b6a25-08b2-4b09-a798-45f62beac0df",
   "metadata": {},
   "outputs": [],
   "source": [
    "#The list can have different data types within the list\n",
    "random = [\"car\", 4.5, True]"
   ]
  },
  {
   "cell_type": "code",
   "execution_count": null,
   "id": "ca9089de-db40-4fd4-965b-87276346dcf4",
   "metadata": {},
   "outputs": [],
   "source": []
  }
 ],
 "metadata": {
  "kernelspec": {
   "display_name": "Python 3 (ipykernel)",
   "language": "python",
   "name": "python3"
  },
  "language_info": {
   "codemirror_mode": {
    "name": "ipython",
    "version": 3
   },
   "file_extension": ".py",
   "mimetype": "text/x-python",
   "name": "python",
   "nbconvert_exporter": "python",
   "pygments_lexer": "ipython3",
   "version": "3.11.7"
  }
 },
 "nbformat": 4,
 "nbformat_minor": 5
}
