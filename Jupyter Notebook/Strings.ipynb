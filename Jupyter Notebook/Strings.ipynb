{
 "cells": [
  {
   "cell_type": "code",
   "execution_count": 1,
   "id": "763218a7-baa2-4d33-9720-df0edbe9d4cc",
   "metadata": {},
   "outputs": [],
   "source": [
    "#Both double quotes and single quotes work\n",
    "first = \"Hirithik Pranav\"\n",
    "last = \"Balusamy\""
   ]
  },
  {
   "cell_type": "code",
   "execution_count": 2,
   "id": "3cc05073-abc0-475b-a8a3-c6e32878f460",
   "metadata": {},
   "outputs": [
    {
     "data": {
      "text/plain": [
       "str"
      ]
     },
     "execution_count": 2,
     "metadata": {},
     "output_type": "execute_result"
    }
   ],
   "source": [
    "type(first)"
   ]
  },
  {
   "cell_type": "code",
   "execution_count": 3,
   "id": "a9058e16-27b4-498c-9e7b-4bd0e6e3176d",
   "metadata": {},
   "outputs": [
    {
     "data": {
      "text/plain": [
       "'Hirithik Pranav Balusamy'"
      ]
     },
     "execution_count": 3,
     "metadata": {},
     "output_type": "execute_result"
    }
   ],
   "source": [
    "name = first + \" \" + last\n",
    "name"
   ]
  },
  {
   "cell_type": "code",
   "execution_count": 4,
   "id": "361ca47f-6280-4214-8034-58d7f82f44c6",
   "metadata": {},
   "outputs": [
    {
     "data": {
      "text/plain": [
       "'Hi, My name is, Hirithik Pranav Balusamy and I go to UCSD. You can call me Hirithik Pranav'"
      ]
     },
     "execution_count": 4,
     "metadata": {},
     "output_type": "execute_result"
    }
   ],
   "source": [
    "#When you want to combine two things you can use the f\"{var1} {var2}\" format:\n",
    "name = f\"Hi, My name is, {first} {last} and I go to UCSD. You can call me {first}\"\n",
    "name"
   ]
  },
  {
   "cell_type": "code",
   "execution_count": 5,
   "id": "565fa038-b30d-45f1-88e3-79953d8f8d8c",
   "metadata": {},
   "outputs": [],
   "source": [
    "name = f\"{first} {last}\""
   ]
  },
  {
   "cell_type": "code",
   "execution_count": 6,
   "id": "892b49bc-f0eb-46b0-b39b-f34f5ae4650e",
   "metadata": {},
   "outputs": [
    {
     "data": {
      "text/plain": [
       "'H'"
      ]
     },
     "execution_count": 6,
     "metadata": {},
     "output_type": "execute_result"
    }
   ],
   "source": [
    "name[0]"
   ]
  },
  {
   "cell_type": "code",
   "execution_count": 7,
   "id": "85626de0-a607-48a6-907b-4a5e17bd36bd",
   "metadata": {},
   "outputs": [
    {
     "data": {
      "text/plain": [
       "'i'"
      ]
     },
     "execution_count": 7,
     "metadata": {},
     "output_type": "execute_result"
    }
   ],
   "source": [
    "name[1]"
   ]
  },
  {
   "cell_type": "code",
   "execution_count": null,
   "id": "62a1dcd5-10b5-41fa-8f82-deb918c12f1f",
   "metadata": {},
   "outputs": [],
   "source": [
    "name[5]"
   ]
  },
  {
   "cell_type": "code",
   "execution_count": 14,
   "id": "3c1cf2f3-0886-4ff1-8e6c-f49a655b1ada",
   "metadata": {},
   "outputs": [],
   "source": [
    "#It does not include the 8th index\n",
    "yo = name[0:8]"
   ]
  },
  {
   "cell_type": "code",
   "execution_count": 12,
   "id": "90951718-9636-4243-9cdd-84f7b6aeca40",
   "metadata": {},
   "outputs": [],
   "source": [
    "first_part = f\"Well, the first part of my first name is {yo}\""
   ]
  },
  {
   "cell_type": "code",
   "execution_count": 13,
   "id": "938db727-b8bd-42f1-88e8-d9507fd32191",
   "metadata": {},
   "outputs": [
    {
     "data": {
      "text/plain": [
       "'Well, the first part of my first name is Hirithik'"
      ]
     },
     "execution_count": 13,
     "metadata": {},
     "output_type": "execute_result"
    }
   ],
   "source": [
    "first_part"
   ]
  },
  {
   "cell_type": "code",
   "execution_count": 16,
   "id": "c110f003-4fc9-409c-b45f-93e37100a3cd",
   "metadata": {},
   "outputs": [
    {
     "data": {
      "text/plain": [
       "'Pranav'"
      ]
     },
     "execution_count": 16,
     "metadata": {},
     "output_type": "execute_result"
    }
   ],
   "source": [
    "also = name[9:15]\n",
    "also"
   ]
  },
  {
   "cell_type": "code",
   "execution_count": 18,
   "id": "32091b27-42ab-492f-9d16-79239714eb9f",
   "metadata": {},
   "outputs": [],
   "source": [
    "second_part = f\"Then, the second part of my first name is {also}\""
   ]
  },
  {
   "cell_type": "code",
   "execution_count": 19,
   "id": "b97f95d3-04ac-48bb-9f66-8d0262b8354b",
   "metadata": {},
   "outputs": [
    {
     "data": {
      "text/plain": [
       "'Then, the second part of my first name is Pranav'"
      ]
     },
     "execution_count": 19,
     "metadata": {},
     "output_type": "execute_result"
    }
   ],
   "source": [
    "second_part"
   ]
  },
  {
   "cell_type": "code",
   "execution_count": 20,
   "id": "e1eef9c2-e395-44e1-ab85-87cb10a18fc7",
   "metadata": {},
   "outputs": [
    {
     "data": {
      "text/plain": [
       "'y'"
      ]
     },
     "execution_count": 20,
     "metadata": {},
     "output_type": "execute_result"
    }
   ],
   "source": [
    "#print the last char\n",
    "name[-1]"
   ]
  },
  {
   "cell_type": "code",
   "execution_count": 21,
   "id": "447b0bed-3965-4c27-868c-67d400e15bea",
   "metadata": {},
   "outputs": [
    {
     "data": {
      "text/plain": [
       "24"
      ]
     },
     "execution_count": 21,
     "metadata": {},
     "output_type": "execute_result"
    }
   ],
   "source": [
    "len(name)"
   ]
  },
  {
   "cell_type": "markdown",
   "id": "b392bf8b-984f-4b15-a877-70e1a952de46",
   "metadata": {},
   "source": [
    "Strings are immutable, so that means you cannot change them after they have been initialized \n",
    "If you have single quotes inside a string value, the outside quotes need to be double quotes or vice versa"
   ]
  },
  {
   "cell_type": "markdown",
   "id": "e2d26135-6950-457d-8c7b-7b3124cda998",
   "metadata": {},
   "source": [
    "When there are a lot of words in a string, you can use triple quotes to organize it better"
   ]
  },
  {
   "cell_type": "code",
   "execution_count": 23,
   "id": "09ee6860-6d70-42a1-a62c-8baa092a539e",
   "metadata": {},
   "outputs": [
    {
     "name": "stdout",
     "output_type": "stream",
     "text": [
      "\n",
      "Lorem Ipsum is simply dummy text of the printing and typesetting industry. Lorem Ipsum has been the industry's \n",
      "standard dummy text ever since the 1500s, when an unknown printer took a galley of type and scrambled it to make a \n",
      "type specimen book. It has survived not only five centuries, but also the leap into electronic typesetting, \n",
      "remaining essentially unchanged. It was popularised in the 1960s with the release of Letraset sheets \n",
      "containing Lorem Ipsum passages, \n",
      "and more recently with desktop publishing software like Aldus PageMaker including versions of Lorem Ipsum.\n",
      "\n"
     ]
    }
   ],
   "source": [
    "long_line = '''\n",
    "Lorem Ipsum is simply dummy text of the printing and typesetting industry. Lorem Ipsum has been the industry's \n",
    "standard dummy text ever since the 1500s, when an unknown printer took a galley of type and scrambled it to make a \n",
    "type specimen book. It has survived not only five centuries, but also the leap into electronic typesetting, \n",
    "remaining essentially unchanged. It was popularised in the 1960s with the release of Letraset sheets \n",
    "containing Lorem Ipsum passages, \n",
    "and more recently with desktop publishing software like Aldus PageMaker including versions of Lorem Ipsum.\n",
    "'''\n",
    "#You have to print it to see it properly\n",
    "print(long_line)"
   ]
  },
  {
   "cell_type": "code",
   "execution_count": 25,
   "id": "2f403bf5-70e5-40fd-8a5d-fd6877a93e51",
   "metadata": {},
   "outputs": [
    {
     "data": {
      "text/plain": [
       "True"
      ]
     },
     "execution_count": 25,
     "metadata": {},
     "output_type": "execute_result"
    }
   ],
   "source": [
    "lorem_ipsum_checker = \"Lorem Ipsum\"\n",
    "lorem_ipsum_checker in long_line"
   ]
  },
  {
   "cell_type": "code",
   "execution_count": null,
   "id": "dd950c51-dda0-4804-b605-f45e6c3430ab",
   "metadata": {},
   "outputs": [],
   "source": []
  },
  {
   "cell_type": "code",
   "execution_count": 26,
   "id": "062ad5ef-fb0d-481c-9b48-ab173198e436",
   "metadata": {},
   "outputs": [
    {
     "data": {
      "text/plain": [
       "'The patient was charged with a $10 bill'"
      ]
     },
     "execution_count": 26,
     "metadata": {},
     "output_type": "execute_result"
    }
   ],
   "source": [
    "s = \"The patient was charged with a $100 bill\"\n",
    "s.replace(\"$100\", \"$10\")"
   ]
  },
  {
   "cell_type": "code",
   "execution_count": 27,
   "id": "8f761fb2-c1b6-40e9-a67b-7604f4d1e360",
   "metadata": {},
   "outputs": [
    {
     "data": {
      "text/plain": [
       "'The patient was charged with a $100 bill'"
      ]
     },
     "execution_count": 27,
     "metadata": {},
     "output_type": "execute_result"
    }
   ],
   "source": [
    "#.replace only creates a new string, the orignial string will still stay\n",
    "s"
   ]
  },
  {
   "cell_type": "code",
   "execution_count": 28,
   "id": "d73b630a-aa90-4fcb-87cd-24d1b672772f",
   "metadata": {},
   "outputs": [
    {
     "data": {
      "text/plain": [
       "'THE PATIENT WAS CHARGED WITH A $100 BILL'"
      ]
     },
     "execution_count": 28,
     "metadata": {},
     "output_type": "execute_result"
    }
   ],
   "source": [
    "s.upper()"
   ]
  },
  {
   "cell_type": "code",
   "execution_count": 29,
   "id": "0900e188-df94-42b6-9aee-de691f000521",
   "metadata": {},
   "outputs": [
    {
     "data": {
      "text/plain": [
       "'the patient was charged with a $100 bill'"
      ]
     },
     "execution_count": 29,
     "metadata": {},
     "output_type": "execute_result"
    }
   ],
   "source": [
    "s.lower()"
   ]
  },
  {
   "cell_type": "code",
   "execution_count": 30,
   "id": "9944b83e-cf29-459e-a7c2-9d1e5853634a",
   "metadata": {},
   "outputs": [
    {
     "data": {
      "text/plain": [
       "True"
      ]
     },
     "execution_count": 30,
     "metadata": {},
     "output_type": "execute_result"
    }
   ],
   "source": [
    "\"410\".isdigit()"
   ]
  },
  {
   "cell_type": "code",
   "execution_count": 31,
   "id": "33e63aae-3eeb-41bf-b227-563e3d2bf10a",
   "metadata": {},
   "outputs": [
    {
     "data": {
      "text/plain": [
       "False"
      ]
     },
     "execution_count": 31,
     "metadata": {},
     "output_type": "execute_result"
    }
   ],
   "source": [
    "\"410fas\".isdigit()"
   ]
  },
  {
   "cell_type": "code",
   "execution_count": 34,
   "id": "082ab1db-a1a3-4bba-af1c-5fbf88f3d370",
   "metadata": {},
   "outputs": [
    {
     "data": {
      "text/plain": [
       "'My age is 18'"
      ]
     },
     "execution_count": 34,
     "metadata": {},
     "output_type": "execute_result"
    }
   ],
   "source": [
    "text = \"My age is \"\n",
    "age = 18\n",
    "#you need a str() for the int if  you want to concatenate this \n",
    "text+str(age)"
   ]
  },
  {
   "cell_type": "markdown",
   "id": "776b362a-8c9b-45b9-be28-373ce77f2834",
   "metadata": {},
   "source": [
    "/t will insert a tab into the text\n",
    "/n will move you to next line"
   ]
  },
  {
   "cell_type": "code",
   "execution_count": 35,
   "id": "df20abf9-e77f-43b6-b370-b7b4a03d543f",
   "metadata": {},
   "outputs": [
    {
     "data": {
      "text/plain": [
       "['AAPL', 'NVDA', 'RIL', 'GOGL']"
      ]
     },
     "execution_count": 35,
     "metadata": {},
     "output_type": "execute_result"
    }
   ],
   "source": [
    "#How data might appear sometimes\n",
    "tickers = \"AAPL|NVDA|RIL|GOGL\"\n",
    "tickers.split(\"|\")"
   ]
  },
  {
   "cell_type": "code",
   "execution_count": 36,
   "id": "a1e2297c-380a-450e-8634-746d3ab96866",
   "metadata": {},
   "outputs": [
    {
     "data": {
      "text/plain": [
       "'hey, we have to go there, you come der ? '"
      ]
     },
     "execution_count": 36,
     "metadata": {},
     "output_type": "execute_result"
    }
   ],
   "source": [
    "#Important functions for cleaning data\n",
    "data = \"hey, we have to go there, you come der ? \"\n",
    "data"
   ]
  },
  {
   "cell_type": "code",
   "execution_count": 39,
   "id": "38f45592-de63-47d5-8037-ba0c6d483b81",
   "metadata": {},
   "outputs": [
    {
     "data": {
      "text/plain": [
       "'hey, we have to go there, you come der ?'"
      ]
     },
     "execution_count": 39,
     "metadata": {},
     "output_type": "execute_result"
    }
   ],
   "source": [
    "#Strips the white spaces at the ends\n",
    "data.strip()"
   ]
  },
  {
   "cell_type": "code",
   "execution_count": 40,
   "id": "7ed826df-c6f7-46d4-afa7-72b744966afb",
   "metadata": {},
   "outputs": [
    {
     "data": {
      "text/plain": [
       "True"
      ]
     },
     "execution_count": 40,
     "metadata": {},
     "output_type": "execute_result"
    }
   ],
   "source": [
    "file_name=\"report.pdf\"\n",
    "\n",
    "file_name.endswith(\".pdf\")"
   ]
  },
  {
   "cell_type": "code",
   "execution_count": 41,
   "id": "e5ded3aa-0289-44f8-952a-a853e917d020",
   "metadata": {},
   "outputs": [
    {
     "ename": "SyntaxError",
     "evalue": "invalid decimal literal (3804785902.py, line 1)",
     "output_type": "error",
     "traceback": [
      "\u001b[0;36m  Cell \u001b[0;32mIn[41], line 1\u001b[0;36m\u001b[0m\n\u001b[0;31m    123AI = 5\u001b[0m\n\u001b[0m      ^\u001b[0m\n\u001b[0;31mSyntaxError\u001b[0m\u001b[0;31m:\u001b[0m invalid decimal literal\n"
     ]
    }
   ],
   "source": [
    "123AI = 5"
   ]
  },
  {
   "cell_type": "code",
   "execution_count": 42,
   "id": "24224313-4914-45d8-9ce0-a5a5e4a28578",
   "metadata": {},
   "outputs": [
    {
     "data": {
      "text/plain": [
       "1"
      ]
     },
     "execution_count": 42,
     "metadata": {},
     "output_type": "execute_result"
    }
   ],
   "source": [
    "-9%2"
   ]
  },
  {
   "cell_type": "code",
   "execution_count": null,
   "id": "9b2aa1c1-4d33-4cde-bae4-b7d7f665fd92",
   "metadata": {},
   "outputs": [],
   "source": []
  }
 ],
 "metadata": {
  "kernelspec": {
   "display_name": "Python 3 (ipykernel)",
   "language": "python",
   "name": "python3"
  },
  "language_info": {
   "codemirror_mode": {
    "name": "ipython",
    "version": 3
   },
   "file_extension": ".py",
   "mimetype": "text/x-python",
   "name": "python",
   "nbconvert_exporter": "python",
   "pygments_lexer": "ipython3",
   "version": "3.11.7"
  }
 },
 "nbformat": 4,
 "nbformat_minor": 5
}
