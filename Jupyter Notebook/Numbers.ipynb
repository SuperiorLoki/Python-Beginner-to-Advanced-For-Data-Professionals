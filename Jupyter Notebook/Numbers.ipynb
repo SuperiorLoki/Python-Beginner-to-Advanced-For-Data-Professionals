{
 "cells": [
  {
   "cell_type": "code",
   "execution_count": 1,
   "id": "32314d65-4ed6-491b-b5cc-81b6199c5ae5",
   "metadata": {},
   "outputs": [
    {
     "data": {
      "text/plain": [
       "35.0"
      ]
     },
     "execution_count": 1,
     "metadata": {},
     "output_type": "execute_result"
    }
   ],
   "source": [
    "base = 7\n",
    "height = 10\n",
    "\n",
    "area = (base*height)/2\n",
    "area"
   ]
  },
  {
   "cell_type": "code",
   "execution_count": 3,
   "id": "c3ffd6b9-b1c7-4c95-99c8-947a65a461ba",
   "metadata": {},
   "outputs": [
    {
     "data": {
      "text/plain": [
       "10"
      ]
     },
     "execution_count": 3,
     "metadata": {},
     "output_type": "execute_result"
    }
   ],
   "source": [
    "x = 7\n",
    "y = 3\n",
    "x+y"
   ]
  },
  {
   "cell_type": "code",
   "execution_count": 4,
   "id": "5c6136be-5e1c-41bc-9d6a-c10f6fc2ba3b",
   "metadata": {},
   "outputs": [
    {
     "data": {
      "text/plain": [
       "4"
      ]
     },
     "execution_count": 4,
     "metadata": {},
     "output_type": "execute_result"
    }
   ],
   "source": [
    "x-y\n"
   ]
  },
  {
   "cell_type": "code",
   "execution_count": 5,
   "id": "fd182096-c837-4bba-b95a-17d52188c81e",
   "metadata": {},
   "outputs": [
    {
     "data": {
      "text/plain": [
       "2.3333333333333335"
      ]
     },
     "execution_count": 5,
     "metadata": {},
     "output_type": "execute_result"
    }
   ],
   "source": [
    "x/y"
   ]
  },
  {
   "cell_type": "code",
   "execution_count": 6,
   "id": "29db6110-da37-4803-a87c-c2744f7676c8",
   "metadata": {},
   "outputs": [
    {
     "data": {
      "text/plain": [
       "2"
      ]
     },
     "execution_count": 6,
     "metadata": {},
     "output_type": "execute_result"
    }
   ],
   "source": [
    "#To just have those above values rounded:\n",
    "x//y"
   ]
  },
  {
   "cell_type": "code",
   "execution_count": 7,
   "id": "10ce8c3f-1194-4c6e-84d6-8b6e60c3fc89",
   "metadata": {},
   "outputs": [
    {
     "data": {
      "text/plain": [
       "1"
      ]
     },
     "execution_count": 7,
     "metadata": {},
     "output_type": "execute_result"
    }
   ],
   "source": [
    "#To get the remainder of the value:\n",
    "x%y"
   ]
  },
  {
   "cell_type": "code",
   "execution_count": 8,
   "id": "f6312546-ec3a-470a-a744-0ce9805a165e",
   "metadata": {},
   "outputs": [
    {
     "data": {
      "text/plain": [
       "343"
      ]
     },
     "execution_count": 8,
     "metadata": {},
     "output_type": "execute_result"
    }
   ],
   "source": [
    "#x to the power of y:\n",
    "x**y"
   ]
  },
  {
   "cell_type": "markdown",
   "id": "e79010ca-614b-469b-b04d-29f6c94ea542",
   "metadata": {},
   "source": [
    "PEMDAS applies to python too"
   ]
  },
  {
   "cell_type": "markdown",
   "id": "99f9953f-0eb2-42ae-85a6-a2aaa279ca13",
   "metadata": {},
   "source": [
    "Shift + Tab on any function to find out what it does "
   ]
  },
  {
   "cell_type": "code",
   "execution_count": 9,
   "id": "fec9af39-768a-490c-a40c-8464d1ebc71b",
   "metadata": {},
   "outputs": [
    {
     "data": {
      "text/plain": [
       "3452"
      ]
     },
     "execution_count": 9,
     "metadata": {},
     "output_type": "execute_result"
    }
   ],
   "source": [
    "round(3452.235)"
   ]
  },
  {
   "cell_type": "code",
   "execution_count": 10,
   "id": "4e7cf373-ac66-46da-afa3-833428cdaae4",
   "metadata": {},
   "outputs": [
    {
     "data": {
      "text/plain": [
       "3452.23"
      ]
     },
     "execution_count": 10,
     "metadata": {},
     "output_type": "execute_result"
    }
   ],
   "source": [
    "round(3452.2345, 2)"
   ]
  },
  {
   "cell_type": "markdown",
   "id": "ef88d776-4c36-4d3b-884d-066a7ecc087d",
   "metadata": {},
   "source": [
    "Converting a string to a integer/float for mathematical purposes"
   ]
  },
  {
   "cell_type": "code",
   "execution_count": 11,
   "id": "c10e94f4-0646-4577-bc61-1c28929f3f2a",
   "metadata": {},
   "outputs": [
    {
     "data": {
      "text/plain": [
       "623"
      ]
     },
     "execution_count": 11,
     "metadata": {},
     "output_type": "execute_result"
    }
   ],
   "source": [
    "food = \"123\"\n",
    "rent = \"500\"\n",
    "\n",
    "#Adding food and rent will not give us the added value but will concatenate the two strings. Instead, do this:\n",
    "total = int(food) + int(rent)\n",
    "total"
   ]
  },
  {
   "cell_type": "markdown",
   "id": "5224cd1e-9e75-422f-8e14-e52175bb4ef4",
   "metadata": {},
   "source": [
    "Using the math module (remember that you have to import it)"
   ]
  },
  {
   "cell_type": "code",
   "execution_count": 12,
   "id": "c8893f2d-8b79-4a8e-a6cd-bb36aa0343de",
   "metadata": {},
   "outputs": [
    {
     "data": {
      "text/plain": [
       "4.0"
      ]
     },
     "execution_count": 12,
     "metadata": {},
     "output_type": "execute_result"
    }
   ],
   "source": [
    "import math\n",
    "\n",
    "x = 16\n",
    "math.sqrt(x)"
   ]
  },
  {
   "cell_type": "code",
   "execution_count": 13,
   "id": "67213097-5317-4b7c-88c1-341c5d050f6c",
   "metadata": {},
   "outputs": [
    {
     "data": {
      "text/plain": [
       "3"
      ]
     },
     "execution_count": 13,
     "metadata": {},
     "output_type": "execute_result"
    }
   ],
   "source": [
    "math.floor(3.7)"
   ]
  },
  {
   "cell_type": "code",
   "execution_count": 15,
   "id": "7cdeb61d-4d7c-4bdb-9723-a8e53c7c882f",
   "metadata": {},
   "outputs": [
    {
     "data": {
      "text/plain": [
       "4"
      ]
     },
     "execution_count": 15,
     "metadata": {},
     "output_type": "execute_result"
    }
   ],
   "source": [
    "math.ceil(3.7)"
   ]
  },
  {
   "cell_type": "code",
   "execution_count": 16,
   "id": "694c5e1b-9922-4d8d-8d4f-c3ea882baba4",
   "metadata": {},
   "outputs": [
    {
     "data": {
      "text/plain": [
       "3.141592653589793"
      ]
     },
     "execution_count": 16,
     "metadata": {},
     "output_type": "execute_result"
    }
   ],
   "source": [
    "math.pi"
   ]
  },
  {
   "cell_type": "code",
   "execution_count": 18,
   "id": "e519289d-0254-4577-b05d-9b92c7c50060",
   "metadata": {},
   "outputs": [
    {
     "data": {
      "text/plain": [
       "['__doc__',\n",
       " '__file__',\n",
       " '__loader__',\n",
       " '__name__',\n",
       " '__package__',\n",
       " '__spec__',\n",
       " 'acos',\n",
       " 'acosh',\n",
       " 'asin',\n",
       " 'asinh',\n",
       " 'atan',\n",
       " 'atan2',\n",
       " 'atanh',\n",
       " 'cbrt',\n",
       " 'ceil',\n",
       " 'comb',\n",
       " 'copysign',\n",
       " 'cos',\n",
       " 'cosh',\n",
       " 'degrees',\n",
       " 'dist',\n",
       " 'e',\n",
       " 'erf',\n",
       " 'erfc',\n",
       " 'exp',\n",
       " 'exp2',\n",
       " 'expm1',\n",
       " 'fabs',\n",
       " 'factorial',\n",
       " 'floor',\n",
       " 'fmod',\n",
       " 'frexp',\n",
       " 'fsum',\n",
       " 'gamma',\n",
       " 'gcd',\n",
       " 'hypot',\n",
       " 'inf',\n",
       " 'isclose',\n",
       " 'isfinite',\n",
       " 'isinf',\n",
       " 'isnan',\n",
       " 'isqrt',\n",
       " 'lcm',\n",
       " 'ldexp',\n",
       " 'lgamma',\n",
       " 'log',\n",
       " 'log10',\n",
       " 'log1p',\n",
       " 'log2',\n",
       " 'modf',\n",
       " 'nan',\n",
       " 'nextafter',\n",
       " 'perm',\n",
       " 'pi',\n",
       " 'pow',\n",
       " 'prod',\n",
       " 'radians',\n",
       " 'remainder',\n",
       " 'sin',\n",
       " 'sinh',\n",
       " 'sqrt',\n",
       " 'tan',\n",
       " 'tanh',\n",
       " 'tau',\n",
       " 'trunc',\n",
       " 'ulp']"
      ]
     },
     "execution_count": 18,
     "metadata": {},
     "output_type": "execute_result"
    }
   ],
   "source": [
    "#To get all the functions that the math module has, you can do:\n",
    "dir(math)"
   ]
  },
  {
   "cell_type": "code",
   "execution_count": null,
   "id": "b5c0c8c4-d3fe-4f4d-8ad7-82cf3b27b623",
   "metadata": {},
   "outputs": [],
   "source": []
  },
  {
   "cell_type": "code",
   "execution_count": null,
   "id": "8229abbc-2119-4d69-94db-83c3bb8e491c",
   "metadata": {},
   "outputs": [],
   "source": []
  }
 ],
 "metadata": {
  "kernelspec": {
   "display_name": "Python 3 (ipykernel)",
   "language": "python",
   "name": "python3"
  },
  "language_info": {
   "codemirror_mode": {
    "name": "ipython",
    "version": 3
   },
   "file_extension": ".py",
   "mimetype": "text/x-python",
   "name": "python",
   "nbconvert_exporter": "python",
   "pygments_lexer": "ipython3",
   "version": "3.11.7"
  }
 },
 "nbformat": 4,
 "nbformat_minor": 5
}
