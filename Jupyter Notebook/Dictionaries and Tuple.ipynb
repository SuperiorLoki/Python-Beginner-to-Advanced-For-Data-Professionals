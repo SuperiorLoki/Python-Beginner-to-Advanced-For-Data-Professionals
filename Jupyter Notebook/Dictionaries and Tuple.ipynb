{
 "cells": [
  {
   "cell_type": "code",
   "execution_count": 2,
   "id": "27d47090-5e8b-4211-a1bb-44c8f7bb245e",
   "metadata": {},
   "outputs": [],
   "source": [
    "expenses = [1200,1400,1700]"
   ]
  },
  {
   "cell_type": "code",
   "execution_count": 4,
   "id": "94e50382-ffeb-4977-9e12-c6adcbad99bb",
   "metadata": {},
   "outputs": [
    {
     "data": {
      "text/plain": [
       "6"
      ]
     },
     "execution_count": 4,
     "metadata": {},
     "output_type": "execute_result"
    }
   ],
   "source": [
    "point = [5,6]\n",
    "point[1]"
   ]
  },
  {
   "cell_type": "code",
   "execution_count": 5,
   "id": "6abc5f6b-0978-4053-ad24-4beb828eee12",
   "metadata": {},
   "outputs": [
    {
     "data": {
      "text/plain": [
       "5"
      ]
     },
     "execution_count": 5,
     "metadata": {},
     "output_type": "execute_result"
    }
   ],
   "source": [
    "point = (5,6)\n",
    "point[0]"
   ]
  },
  {
   "cell_type": "code",
   "execution_count": 6,
   "id": "e356b3b2-b1c1-4afe-9d23-f8d46a3a3697",
   "metadata": {},
   "outputs": [
    {
     "data": {
      "text/plain": [
       "6"
      ]
     },
     "execution_count": 6,
     "metadata": {},
     "output_type": "execute_result"
    }
   ],
   "source": [
    "point[1]"
   ]
  },
  {
   "cell_type": "code",
   "execution_count": 7,
   "id": "082540ab-6a4a-42b2-8ba7-d678d972a19e",
   "metadata": {},
   "outputs": [
    {
     "data": {
      "text/plain": [
       "tuple"
      ]
     },
     "execution_count": 7,
     "metadata": {},
     "output_type": "execute_result"
    }
   ],
   "source": [
    "type(point)"
   ]
  },
  {
   "cell_type": "markdown",
   "id": "c6c70ada-50f6-4876-ac60-e658deb1b69b",
   "metadata": {},
   "source": [
    "Tuples are immutable"
   ]
  },
  {
   "cell_type": "markdown",
   "id": "028adcbf-d7a3-4b4b-98ab-54ccf94c0bb2",
   "metadata": {},
   "source": [
    "Tuples are fixed in size "
   ]
  },
  {
   "cell_type": "markdown",
   "id": "6d777a49-9ffc-4be0-a6c3-1a4cf228e034",
   "metadata": {},
   "source": [
    "You also cannot change the values in it"
   ]
  },
  {
   "cell_type": "markdown",
   "id": "0cdf47e0-e62a-41ff-845c-0e019b3b34d8",
   "metadata": {},
   "source": [
    "The use case for this is that it is memory efficient "
   ]
  },
  {
   "cell_type": "code",
   "execution_count": 8,
   "id": "8129eabe-63e3-46cc-bc4e-ae2c7a683d44",
   "metadata": {},
   "outputs": [],
   "source": [
    "point_3d = (5,8,10)"
   ]
  },
  {
   "cell_type": "code",
   "execution_count": 15,
   "id": "d4688f3d-3f69-49cd-bf39-5b0e94f6b17b",
   "metadata": {},
   "outputs": [],
   "source": [
    "def find_pe_and_pb(price, eps, book_value):\n",
    "    pe = price/eps\n",
    "    pb = price/book_value\n",
    "    return (pe,pb)\n"
   ]
  },
  {
   "cell_type": "code",
   "execution_count": 14,
   "id": "fca8b497-78c0-4f21-b029-c905c2abbd5a",
   "metadata": {},
   "outputs": [],
   "source": [
    "#With a tuple, you can set the values to individual variables \n",
    "pe_ratio, pb_ratio = find_pe_and_pb(100,2,4)"
   ]
  },
  {
   "cell_type": "code",
   "execution_count": 17,
   "id": "27caf444-a117-4bcf-a5b0-4d2d5e67603c",
   "metadata": {},
   "outputs": [
    {
     "data": {
      "text/plain": [
       "50.0"
      ]
     },
     "execution_count": 17,
     "metadata": {},
     "output_type": "execute_result"
    }
   ],
   "source": [
    "pe_ratio"
   ]
  },
  {
   "cell_type": "code",
   "execution_count": 18,
   "id": "48c36908-78b3-41e7-ac1b-fc31155b4664",
   "metadata": {},
   "outputs": [
    {
     "data": {
      "text/plain": [
       "25.0"
      ]
     },
     "execution_count": 18,
     "metadata": {},
     "output_type": "execute_result"
    }
   ],
   "source": [
    "pb_ratio"
   ]
  },
  {
   "cell_type": "code",
   "execution_count": null,
   "id": "748bc16c-a837-4ac9-bf5b-4818e142c44c",
   "metadata": {},
   "outputs": [],
   "source": []
  },
  {
   "cell_type": "code",
   "execution_count": 20,
   "id": "5aeb9d0a-7a94-41f3-b068-c98b8684719b",
   "metadata": {},
   "outputs": [],
   "source": [
    "#List of Tuples\n",
    "contacts = [('rachel', 8887771111), ('monica',9195675555), ('joey', 3332221111)]"
   ]
  },
  {
   "cell_type": "code",
   "execution_count": 22,
   "id": "86a9ab27-b875-429c-a7a4-8245a5e68525",
   "metadata": {},
   "outputs": [
    {
     "name": "stdout",
     "output_type": "stream",
     "text": [
      "9195675555\n"
     ]
    }
   ],
   "source": [
    "#As the list is longer and longer, the more memory it takes because the more iterations it needs to do\n",
    "for contact in contacts:\n",
    "    if contact[0] == \"monica\":\n",
    "        print(contact[1])"
   ]
  },
  {
   "cell_type": "markdown",
   "id": "671ae384-ae98-4d7f-9996-4a30239ed8c3",
   "metadata": {},
   "source": [
    "To keep the code efficient, it is best to use a hashmap. While iterations take different amounts of memory depending on the location, hashmaps always take the same amount of memory"
   ]
  },
  {
   "cell_type": "markdown",
   "id": "031ea824-80fd-4a9d-9c4d-d9008db0638f",
   "metadata": {},
   "source": [
    "In Python, the way hashmaps are done are through dictionaries"
   ]
  },
  {
   "cell_type": "markdown",
   "id": "00c52318-26a0-4a2b-b5d7-278eaa1a266d",
   "metadata": {},
   "source": [
    "Essentially, the values are put through a hash function which will put it into different locations in the dictionary. This allows us to directly ask for a certain thing without having to iterate through the whole thing and it will give us the corresponding value. "
   ]
  },
  {
   "cell_type": "markdown",
   "id": "f1920d26-03f7-4ffa-87a8-f31a5a96fe5b",
   "metadata": {},
   "source": [
    "One of the hashing functions is through using the ASCII values to get a memory adress by summing those values and doing modulo"
   ]
  },
  {
   "cell_type": "code",
   "execution_count": 24,
   "id": "1d583c14-5044-42eb-b280-74a45f55f2db",
   "metadata": {},
   "outputs": [],
   "source": [
    "#The string is called the key and the value is the number values which correspond to the key\n",
    "dictionary = {\n",
    "    'rachel': 8887771111,\n",
    "    'monica': 9195675555,\n",
    "    'joey': 33322299999\n",
    "}"
   ]
  },
  {
   "cell_type": "code",
   "execution_count": 25,
   "id": "3b424fcc-e187-45e6-8261-c68ffa2c4249",
   "metadata": {},
   "outputs": [
    {
     "data": {
      "text/plain": [
       "9195675555"
      ]
     },
     "execution_count": 25,
     "metadata": {},
     "output_type": "execute_result"
    }
   ],
   "source": [
    "#Internally, when we call this, python will use a hashing function to retrieve the memory location and get the value\n",
    "dictionary['monica']"
   ]
  },
  {
   "cell_type": "code",
   "execution_count": 29,
   "id": "c287181c-457e-441c-8f82-5ddcfb193b9b",
   "metadata": {},
   "outputs": [],
   "source": [
    "#Using this, you will be able to not have an error when the key does not exist\n",
    "dictionary.get('satya')"
   ]
  },
  {
   "cell_type": "code",
   "execution_count": 30,
   "id": "b8435bf0-1c57-4102-8f3d-9d7201f8055e",
   "metadata": {},
   "outputs": [
    {
     "data": {
      "text/plain": [
       "33322299999"
      ]
     },
     "execution_count": 30,
     "metadata": {},
     "output_type": "execute_result"
    }
   ],
   "source": [
    "dictionary.get('joey')"
   ]
  },
  {
   "cell_type": "code",
   "execution_count": 31,
   "id": "15c18ef5-7ced-435b-8986-9d22671be12b",
   "metadata": {},
   "outputs": [],
   "source": [
    "#Update value\n",
    "dictionary['rachel'] = 99989890000"
   ]
  },
  {
   "cell_type": "code",
   "execution_count": 32,
   "id": "099293df-f368-421f-923d-6958edecda56",
   "metadata": {},
   "outputs": [
    {
     "data": {
      "text/plain": [
       "{'rachel': 99989890000, 'monica': 9195675555, 'joey': 33322299999}"
      ]
     },
     "execution_count": 32,
     "metadata": {},
     "output_type": "execute_result"
    }
   ],
   "source": [
    "dictionary"
   ]
  },
  {
   "cell_type": "code",
   "execution_count": 33,
   "id": "bfafdc93-b71f-448b-a2b0-64da7160c231",
   "metadata": {},
   "outputs": [],
   "source": [
    "#Insert a new key\n",
    "dictionary['satya'] = 4445554545"
   ]
  },
  {
   "cell_type": "code",
   "execution_count": 34,
   "id": "08201e5a-c57d-4024-88a1-d6139761a79d",
   "metadata": {},
   "outputs": [
    {
     "data": {
      "text/plain": [
       "{'rachel': 99989890000,\n",
       " 'monica': 9195675555,\n",
       " 'joey': 33322299999,\n",
       " 'satya': 4445554545}"
      ]
     },
     "execution_count": 34,
     "metadata": {},
     "output_type": "execute_result"
    }
   ],
   "source": [
    "dictionary"
   ]
  },
  {
   "cell_type": "code",
   "execution_count": 35,
   "id": "31229268-6a0f-40db-8366-6cb8c9f68e92",
   "metadata": {},
   "outputs": [],
   "source": [
    "#Deleting an element\n",
    "del dictionary['satya']"
   ]
  },
  {
   "cell_type": "code",
   "execution_count": 37,
   "id": "7657f949-39c1-4ee0-877b-b400a8c3f10b",
   "metadata": {},
   "outputs": [
    {
     "data": {
      "text/plain": [
       "False"
      ]
     },
     "execution_count": 37,
     "metadata": {},
     "output_type": "execute_result"
    }
   ],
   "source": [
    "'abdul' in dictionary"
   ]
  },
  {
   "cell_type": "code",
   "execution_count": 38,
   "id": "324431bc-3f3c-469c-9f36-1c0decf7c3b5",
   "metadata": {},
   "outputs": [
    {
     "data": {
      "text/plain": [
       "True"
      ]
     },
     "execution_count": 38,
     "metadata": {},
     "output_type": "execute_result"
    }
   ],
   "source": [
    "'rachel' in dictionary"
   ]
  },
  {
   "cell_type": "code",
   "execution_count": 40,
   "id": "cc82d957-b190-4d91-81b1-5992af9c37cc",
   "metadata": {},
   "outputs": [],
   "source": [
    "#Nested Dictionary\n",
    "contact_dict = {\n",
    "    'rachel': {'phone':1234, 'address': '1 blue st'},\n",
    "    'joey': {'phone':999, 'address': '7 newton blvd'}\n",
    "}"
   ]
  },
  {
   "cell_type": "code",
   "execution_count": 41,
   "id": "df145150-2a06-49a0-8189-782ccd0f3cfe",
   "metadata": {},
   "outputs": [
    {
     "data": {
      "text/plain": [
       "{'phone': 1234, 'address': '1 blue st'}"
      ]
     },
     "execution_count": 41,
     "metadata": {},
     "output_type": "execute_result"
    }
   ],
   "source": [
    "contact_dict['rachel']"
   ]
  },
  {
   "cell_type": "code",
   "execution_count": 43,
   "id": "899eef03-05d8-4980-a9c4-4628be82e581",
   "metadata": {},
   "outputs": [
    {
     "data": {
      "text/plain": [
       "1234"
      ]
     },
     "execution_count": 43,
     "metadata": {},
     "output_type": "execute_result"
    }
   ],
   "source": [
    "#To access specific things\n",
    "contact_dict['rachel']['phone']"
   ]
  },
  {
   "cell_type": "code",
   "execution_count": 44,
   "id": "8b0a6de7-7bce-46a0-88f9-417bff6c01f2",
   "metadata": {},
   "outputs": [
    {
     "data": {
      "text/plain": [
       "{'rachel': 99989890000, 'monica': 9195675555, 'joey': 33322299999}"
      ]
     },
     "execution_count": 44,
     "metadata": {},
     "output_type": "execute_result"
    }
   ],
   "source": [
    "dictionary"
   ]
  },
  {
   "cell_type": "code",
   "execution_count": 45,
   "id": "be23d73d-78fa-4460-a28d-34498441494b",
   "metadata": {},
   "outputs": [
    {
     "name": "stdout",
     "output_type": "stream",
     "text": [
      "rachel 99989890000\n",
      "monica 9195675555\n",
      "joey 33322299999\n"
     ]
    }
   ],
   "source": [
    "for name, number in dictionary.items():\n",
    "    print(name, number)"
   ]
  },
  {
   "cell_type": "code",
   "execution_count": 46,
   "id": "7e9bfa86-1b04-4038-8884-753c1e3c31d7",
   "metadata": {},
   "outputs": [
    {
     "data": {
      "text/plain": [
       "{'rachel': {'phone': 1234, 'address': '1 blue st'},\n",
       " 'joey': {'phone': 999, 'address': '7 newton blvd'}}"
      ]
     },
     "execution_count": 46,
     "metadata": {},
     "output_type": "execute_result"
    }
   ],
   "source": [
    "contact_dict"
   ]
  },
  {
   "cell_type": "code",
   "execution_count": 51,
   "id": "7e3fa501-029b-4cb7-9d1a-fde549adc5a6",
   "metadata": {},
   "outputs": [
    {
     "name": "stdout",
     "output_type": "stream",
     "text": [
      "rachel's phone number is phone and lives in 1234\n",
      "rachel's phone number is address and lives in 1 blue st\n",
      "joey's phone number is phone and lives in 999\n",
      "joey's phone number is address and lives in 7 newton blvd\n"
     ]
    }
   ],
   "source": [
    "#Incorrect implementation!\n",
    "for name, belongings in contact_dict.items():\n",
    "    for phone, address in belongings.items():\n",
    "        print(f\"{name}'s phone number is {phone} and lives in {address}\")"
   ]
  },
  {
   "cell_type": "code",
   "execution_count": null,
   "id": "88d08692-11cd-4d3d-b43b-cb75881a9925",
   "metadata": {},
   "outputs": [],
   "source": []
  }
 ],
 "metadata": {
  "kernelspec": {
   "display_name": "Python 3 (ipykernel)",
   "language": "python",
   "name": "python3"
  },
  "language_info": {
   "codemirror_mode": {
    "name": "ipython",
    "version": 3
   },
   "file_extension": ".py",
   "mimetype": "text/x-python",
   "name": "python",
   "nbconvert_exporter": "python",
   "pygments_lexer": "ipython3",
   "version": "3.11.7"
  }
 },
 "nbformat": 4,
 "nbformat_minor": 5
}
