{
 "cells": [
  {
   "cell_type": "markdown",
   "id": "84e1b9dc-2546-4b22-84b5-e65f4ab36ac4",
   "metadata": {},
   "source": [
    "**List Comprehension**"
   ]
  },
  {
   "cell_type": "code",
   "execution_count": 1,
   "id": "513c8a70-f4b9-47ed-bee9-95692a4de4e9",
   "metadata": {},
   "outputs": [
    {
     "data": {
      "text/plain": [
       "[1, 4, 9, 16, 25]"
      ]
     },
     "execution_count": 1,
     "metadata": {},
     "output_type": "execute_result"
    }
   ],
   "source": [
    "numbers = [1,2,3,4,5]\n",
    "sqr_numbers = []\n",
    "\n",
    "for n in numbers:\n",
    "    sqr_numbers.append(n**2)\n",
    "\n",
    "sqr_numbers"
   ]
  },
  {
   "cell_type": "code",
   "execution_count": 4,
   "id": "102c4853-7270-45ed-adda-d6c60d42f49c",
   "metadata": {},
   "outputs": [
    {
     "data": {
      "text/plain": [
       "[1, 4, 9, 16, 25]"
      ]
     },
     "execution_count": 4,
     "metadata": {},
     "output_type": "execute_result"
    }
   ],
   "source": [
    "#You can do the same thing you did up there with this easy method:\n",
    "#[(the operation) for n in (list name)]\n",
    "sqr_numbers = [n**2 for n in numbers]\n",
    "sqr_numbers"
   ]
  },
  {
   "cell_type": "markdown",
   "id": "1a358040-4b89-4d25-af1b-799fbe3ba73c",
   "metadata": {},
   "source": [
    "This improves performance"
   ]
  },
  {
   "cell_type": "code",
   "execution_count": null,
   "id": "e5f6d180-fb65-4acd-a8b5-045ca26c8841",
   "metadata": {},
   "outputs": [],
   "source": []
  },
  {
   "cell_type": "code",
   "execution_count": 5,
   "id": "d7350073-0d36-48bc-a0b5-0669ad5ec5f7",
   "metadata": {},
   "outputs": [],
   "source": [
    "price = [100,120,80,50]\n",
    "earning_per_share = [9,15,40,2]"
   ]
  },
  {
   "cell_type": "code",
   "execution_count": 10,
   "id": "d34625f4-1a1c-43e3-b600-2f8c5f28177e",
   "metadata": {},
   "outputs": [],
   "source": [
    "pe_ratio = [p/e for p,e in zip(price, earning_per_share)]"
   ]
  },
  {
   "cell_type": "code",
   "execution_count": 11,
   "id": "f245725a-56d1-423f-8e2f-2da30497c212",
   "metadata": {},
   "outputs": [
    {
     "data": {
      "text/plain": [
       "[11.11111111111111, 8.0, 2.0, 25.0]"
      ]
     },
     "execution_count": 11,
     "metadata": {},
     "output_type": "execute_result"
    }
   ],
   "source": [
    "pe_ratio"
   ]
  },
  {
   "cell_type": "code",
   "execution_count": 14,
   "id": "7e13b26d-73dc-4c7c-b1a8-dabdd3a3168c",
   "metadata": {},
   "outputs": [
    {
     "data": {
      "text/plain": [
       "[-1, 8.0, 2.0, 25.0]"
      ]
     },
     "execution_count": 14,
     "metadata": {},
     "output_type": "execute_result"
    }
   ],
   "source": [
    "#ZeroDivisionError fixing\n",
    "price = [100,120,80,50]\n",
    "earning_per_share = [0,15,40,2]\n",
    "\n",
    "pe_ratio = [p/e if e!=0 else -1 for p,e in zip(price, earning_per_share)]\n",
    "pe_ratio"
   ]
  },
  {
   "cell_type": "code",
   "execution_count": null,
   "id": "9cc5f122-dfe2-437b-9381-4a27088bb406",
   "metadata": {},
   "outputs": [],
   "source": []
  },
  {
   "cell_type": "code",
   "execution_count": 16,
   "id": "e7c1cedb-12b6-448f-86a4-6f2c1060224c",
   "metadata": {},
   "outputs": [
    {
     "data": {
      "text/plain": [
       "[5, 6, 6, 4]"
      ]
     },
     "execution_count": 16,
     "metadata": {},
     "output_type": "execute_result"
    }
   ],
   "source": [
    "words = [\"apple\", \"banana\", \"cherry\", \"date\"]\n",
    "\n",
    "length = [len(word) for word in words]\n",
    "length"
   ]
  },
  {
   "cell_type": "code",
   "execution_count": 20,
   "id": "4c4b2579-67bf-4af5-9c7d-3c1b637a8472",
   "metadata": {},
   "outputs": [
    {
     "data": {
      "text/plain": [
       "[108.0, 99, 135.0, 80, 180.0]"
      ]
     },
     "execution_count": 20,
     "metadata": {},
     "output_type": "execute_result"
    }
   ],
   "source": [
    "prices = [120, 99, 150, 80, 200]\n",
    "\n",
    "discounted = [price*0.9 if price > 100 else price for price in prices]\n",
    "discounted"
   ]
  },
  {
   "cell_type": "markdown",
   "id": "2f46fa65-3dbc-4b60-91ab-e67adc4035df",
   "metadata": {},
   "source": [
    "**Dictionary Comprehension**"
   ]
  },
  {
   "cell_type": "code",
   "execution_count": 24,
   "id": "82e9c5cb-9e42-4db4-b855-c84dfb2fed55",
   "metadata": {},
   "outputs": [
    {
     "data": {
      "text/plain": [
       "{'Alice': 25, 'Bob': 30, 'Charlie': 35}"
      ]
     },
     "execution_count": 24,
     "metadata": {},
     "output_type": "execute_result"
    }
   ],
   "source": [
    "names = [\"Alice\", \"Bob\", \"Charlie\"]\n",
    "ages = [25,30,35]\n",
    "\n",
    "\n",
    "name_age_dict = {name:age for name, age in zip(names, ages)}\n",
    "name_age_dict"
   ]
  },
  {
   "cell_type": "markdown",
   "id": "120c6133-e7e5-4d68-9579-93c244923fb5",
   "metadata": {},
   "source": [
    "**Set Comprehension**"
   ]
  },
  {
   "cell_type": "code",
   "execution_count": 25,
   "id": "7321edaa-bc4f-4ea8-a907-86bd81abbe9d",
   "metadata": {},
   "outputs": [],
   "source": [
    "transactions = [\n",
    "    {'customer_name': \"Mira\", \"amount\": 56, \"date\": \"2024-08-01\"},\n",
    "    {'customer_name': \"Mira\", \"amount\": 12.3, \"date\": \"2024-09-05\"},\n",
    "    {'customer_name': \"Mohan\", \"amount\": 21, \"date\": \"2024-09-03\"},\n",
    "    {'customer_name': \"Mohan\", \"amount\": 36.8, \"date\": \"2024-09-10\"},\n",
    "    {'customer_name': \"Lucy\", \"amount\": 66.3, \"date\": \"2024-09-10\"}\n",
    "]"
   ]
  },
  {
   "cell_type": "code",
   "execution_count": 26,
   "id": "5df06764-fe97-4b31-b876-6fcc50ca7807",
   "metadata": {},
   "outputs": [],
   "source": [
    "new_transactions = {trans[\"customer_name\"] for trans in transactions}"
   ]
  },
  {
   "cell_type": "code",
   "execution_count": 27,
   "id": "98c591e3-2915-4025-9ea4-a1c49dbd0bc3",
   "metadata": {},
   "outputs": [
    {
     "data": {
      "text/plain": [
       "{'Lucy', 'Mira', 'Mohan'}"
      ]
     },
     "execution_count": 27,
     "metadata": {},
     "output_type": "execute_result"
    }
   ],
   "source": [
    "new_transactions"
   ]
  },
  {
   "cell_type": "code",
   "execution_count": null,
   "id": "e61998a2-054e-47cb-a2bc-f7737459e2e9",
   "metadata": {},
   "outputs": [],
   "source": []
  }
 ],
 "metadata": {
  "kernelspec": {
   "display_name": "Python 3 (ipykernel)",
   "language": "python",
   "name": "python3"
  },
  "language_info": {
   "codemirror_mode": {
    "name": "ipython",
    "version": 3
   },
   "file_extension": ".py",
   "mimetype": "text/x-python",
   "name": "python",
   "nbconvert_exporter": "python",
   "pygments_lexer": "ipython3",
   "version": "3.11.7"
  }
 },
 "nbformat": 4,
 "nbformat_minor": 5
}
