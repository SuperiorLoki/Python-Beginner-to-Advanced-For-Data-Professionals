{
 "cells": [
  {
   "cell_type": "code",
   "execution_count": 1,
   "id": "ecf2e72b-9d34-482f-83bd-4a282010fc27",
   "metadata": {},
   "outputs": [],
   "source": [
    "myset = set([1,2,3,4,4,4,3])"
   ]
  },
  {
   "cell_type": "code",
   "execution_count": 2,
   "id": "626f82fe-6b55-4005-914e-d02f2163a7d1",
   "metadata": {},
   "outputs": [
    {
     "data": {
      "text/plain": [
       "{1, 2, 3, 4}"
      ]
     },
     "execution_count": 2,
     "metadata": {},
     "output_type": "execute_result"
    }
   ],
   "source": [
    "myset"
   ]
  },
  {
   "cell_type": "code",
   "execution_count": 3,
   "id": "f9ccc6f8-3503-4c2e-a51f-4131aec02773",
   "metadata": {},
   "outputs": [],
   "source": [
    "#sets do not store any duplicate elements and it puts it in ordered format"
   ]
  },
  {
   "cell_type": "code",
   "execution_count": 4,
   "id": "d737fb08-8e55-47b0-a23f-235f8c8d7e5f",
   "metadata": {},
   "outputs": [
    {
     "data": {
      "text/plain": [
       "[1, 2, 3, 4]"
      ]
     },
     "execution_count": 4,
     "metadata": {},
     "output_type": "execute_result"
    }
   ],
   "source": [
    "#you can access stuff by index with sets so you might have to convert it to a list\n",
    "list(myset)"
   ]
  },
  {
   "cell_type": "code",
   "execution_count": 5,
   "id": "bc0ba6cb-62e6-469f-9a50-ed9cf1c3a25e",
   "metadata": {},
   "outputs": [
    {
     "data": {
      "text/plain": [
       "set"
      ]
     },
     "execution_count": 5,
     "metadata": {},
     "output_type": "execute_result"
    }
   ],
   "source": [
    "type(myset)"
   ]
  },
  {
   "cell_type": "code",
   "execution_count": 6,
   "id": "5799206c-6f17-41ee-99be-4a1614342ff0",
   "metadata": {},
   "outputs": [],
   "source": [
    "#alternative way to create a set\n",
    "myset = {1,2,2,2,2,2,4,4,5,2,3}"
   ]
  },
  {
   "cell_type": "code",
   "execution_count": 7,
   "id": "dbe530fa-ec4b-4f31-83f0-e0ee719fbdd6",
   "metadata": {},
   "outputs": [
    {
     "data": {
      "text/plain": [
       "{1, 2, 3, 4, 5}"
      ]
     },
     "execution_count": 7,
     "metadata": {},
     "output_type": "execute_result"
    }
   ],
   "source": [
    "myset"
   ]
  },
  {
   "cell_type": "code",
   "execution_count": 8,
   "id": "4a9da71f-4212-42a7-83f7-6ac49d42bbc6",
   "metadata": {},
   "outputs": [],
   "source": [
    "menu = set([\"Dosa\", \"Idli\", \"Biriyani\"])"
   ]
  },
  {
   "cell_type": "code",
   "execution_count": 9,
   "id": "37b6507e-679d-4a59-8cd2-82659d66c2e9",
   "metadata": {},
   "outputs": [
    {
     "data": {
      "text/plain": [
       "{'Biriyani', 'Dosa', 'Idli'}"
      ]
     },
     "execution_count": 9,
     "metadata": {},
     "output_type": "execute_result"
    }
   ],
   "source": [
    "menu"
   ]
  },
  {
   "cell_type": "code",
   "execution_count": 10,
   "id": "cf26b5aa-a734-4eaa-b57b-fecf67ebb244",
   "metadata": {},
   "outputs": [],
   "source": [
    "menu.add(\"Sambar\")"
   ]
  },
  {
   "cell_type": "code",
   "execution_count": 11,
   "id": "7ca670f3-f747-4c6c-a345-456b333420d4",
   "metadata": {},
   "outputs": [
    {
     "data": {
      "text/plain": [
       "{'Biriyani', 'Dosa', 'Idli', 'Sambar'}"
      ]
     },
     "execution_count": 11,
     "metadata": {},
     "output_type": "execute_result"
    }
   ],
   "source": [
    "menu"
   ]
  },
  {
   "cell_type": "code",
   "execution_count": 12,
   "id": "a978544e-11df-41e8-ad21-0b50815fa2ba",
   "metadata": {},
   "outputs": [],
   "source": [
    "menu.remove(\"Biriyani\")"
   ]
  },
  {
   "cell_type": "code",
   "execution_count": 13,
   "id": "212cadfe-d034-4d70-b34b-226aad282af0",
   "metadata": {},
   "outputs": [
    {
     "data": {
      "text/plain": [
       "{'Dosa', 'Idli', 'Sambar'}"
      ]
     },
     "execution_count": 13,
     "metadata": {},
     "output_type": "execute_result"
    }
   ],
   "source": [
    "menu"
   ]
  },
  {
   "cell_type": "code",
   "execution_count": 14,
   "id": "54682376-57b3-4b6c-bb2c-c44f60689a22",
   "metadata": {},
   "outputs": [],
   "source": [
    "#a frozenset cannot be modified \n",
    "frozen_menu = frozenset([\"Dosa Batter\", \"Curry leaves\", \"Turmeric\"])"
   ]
  },
  {
   "cell_type": "code",
   "execution_count": 15,
   "id": "275ce6f3-707a-4323-88e6-cc5992638930",
   "metadata": {},
   "outputs": [],
   "source": [
    "#Does not work: frozen_menu.add(\"Dosa\")"
   ]
  },
  {
   "cell_type": "code",
   "execution_count": 16,
   "id": "e1442cc2-7a4b-484d-8012-6514c5f97e90",
   "metadata": {},
   "outputs": [
    {
     "data": {
      "text/plain": [
       "True"
      ]
     },
     "execution_count": 16,
     "metadata": {},
     "output_type": "execute_result"
    }
   ],
   "source": [
    "\"Dosa\" in menu"
   ]
  },
  {
   "cell_type": "code",
   "execution_count": 17,
   "id": "6e8f3ef3-e51a-4b9a-8264-bcc2dfb95769",
   "metadata": {},
   "outputs": [
    {
     "data": {
      "text/plain": [
       "False"
      ]
     },
     "execution_count": 17,
     "metadata": {},
     "output_type": "execute_result"
    }
   ],
   "source": [
    "\"Dosa\" in frozen_menu"
   ]
  },
  {
   "cell_type": "code",
   "execution_count": 18,
   "id": "99dd5922-769f-4566-b83d-a712de8ebde6",
   "metadata": {},
   "outputs": [],
   "source": [
    "transactions = [\n",
    "    {'customer_name': \"Mira\", \"amount\": 56, \"date\": \"2024-08-01\"},\n",
    "    {'customer_name': \"Mira\", \"amount\": 12.3, \"date\": \"2024-09-05\"},\n",
    "    {'customer_name': \"Mohan\", \"amount\": 21, \"date\": \"2024-09-03\"},\n",
    "    {'customer_name': \"Mohan\", \"amount\": 36.8, \"date\": \"2024-09-10\"},\n",
    "    {'customer_name': \"Lucy\", \"amount\": 66.3, \"date\": \"2024-09-10\"}\n",
    "]"
   ]
  },
  {
   "cell_type": "code",
   "execution_count": 19,
   "id": "17c84567-9191-4a68-83ac-aaaa4e1b11ba",
   "metadata": {},
   "outputs": [
    {
     "name": "stdout",
     "output_type": "stream",
     "text": [
      "Mira\n",
      "Mira\n",
      "Mohan\n",
      "Mohan\n",
      "Lucy\n"
     ]
    }
   ],
   "source": [
    "for trans in transactions:\n",
    "    print(trans[\"customer_name\"])"
   ]
  },
  {
   "cell_type": "code",
   "execution_count": 20,
   "id": "08b76caa-00b0-4b26-87d6-5a2c2bfe1722",
   "metadata": {},
   "outputs": [
    {
     "name": "stdout",
     "output_type": "stream",
     "text": [
      "{'Lucy', 'Mohan', 'Mira'}\n"
     ]
    }
   ],
   "source": [
    "#to only view unique names\n",
    "customer = set()\n",
    "for trans in transactions:\n",
    "    customer.add(trans[\"customer_name\"])\n",
    "print(customer)"
   ]
  },
  {
   "cell_type": "code",
   "execution_count": 21,
   "id": "cb375b91-b5d7-431e-8695-1ec0c5302299",
   "metadata": {},
   "outputs": [],
   "source": [
    "a = {\"Mira\", \"Mohan\", \"Lucy\", \"Ahmed\"}\n",
    "b = {\"Chen\", \"Mohan\", \"Radha\", \"Maria\"}"
   ]
  },
  {
   "cell_type": "code",
   "execution_count": 25,
   "id": "a6724303-42a7-4f94-ab9e-32e257b73bc5",
   "metadata": {},
   "outputs": [
    {
     "data": {
      "text/plain": [
       "{'Mohan'}"
      ]
     },
     "execution_count": 25,
     "metadata": {},
     "output_type": "execute_result"
    }
   ],
   "source": [
    "#to find similarities in two sets\n",
    "a & b"
   ]
  },
  {
   "cell_type": "code",
   "execution_count": 26,
   "id": "8b3fb340-5652-4c7c-b93d-f0c727444ea8",
   "metadata": {},
   "outputs": [
    {
     "data": {
      "text/plain": [
       "{'Ahmed', 'Chen', 'Lucy', 'Maria', 'Mira', 'Mohan', 'Radha'}"
      ]
     },
     "execution_count": 26,
     "metadata": {},
     "output_type": "execute_result"
    }
   ],
   "source": [
    "#to find who are present in both\n",
    "a | b"
   ]
  },
  {
   "cell_type": "code",
   "execution_count": null,
   "id": "79f8209a-621b-4214-a6b5-ef88e0851188",
   "metadata": {},
   "outputs": [],
   "source": []
  }
 ],
 "metadata": {
  "kernelspec": {
   "display_name": "Python 3 (ipykernel)",
   "language": "python",
   "name": "python3"
  },
  "language_info": {
   "codemirror_mode": {
    "name": "ipython",
    "version": 3
   },
   "file_extension": ".py",
   "mimetype": "text/x-python",
   "name": "python",
   "nbconvert_exporter": "python",
   "pygments_lexer": "ipython3",
   "version": "3.11.7"
  }
 },
 "nbformat": 4,
 "nbformat_minor": 5
}
