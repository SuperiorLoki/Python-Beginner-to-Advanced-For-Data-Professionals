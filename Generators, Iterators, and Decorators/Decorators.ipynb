{
 "cells": [
  {
   "cell_type": "code",
   "execution_count": 15,
   "id": "3489e9ba-10da-4246-b622-88539136fa9d",
   "metadata": {},
   "outputs": [],
   "source": [
    "import time\n",
    "def get_square(numbers):\n",
    "    start = time.time()\n",
    "    result = []\n",
    "    for n in numbers:\n",
    "        result.append(n * n)\n",
    "    end = time.time()\n",
    "    print(f\"The function took {(end-start)*1000} milliseconds to complete\")\n",
    "    return result\n",
    "\n",
    "def get_cube(numbers):\n",
    "    start = time.time()\n",
    "    result = []\n",
    "    for n in numbers:\n",
    "        result.append(n * n * n)\n",
    "    end = time.time()\n",
    "    print(f\"The function took {(end-start)} seconds to complete\")\n",
    "    return result"
   ]
  },
  {
   "cell_type": "code",
   "execution_count": 16,
   "id": "77caf237-af1d-4dbf-af84-39f14b43b359",
   "metadata": {},
   "outputs": [
    {
     "name": "stdout",
     "output_type": "stream",
     "text": [
      "The function took 5.759954452514648 milliseconds to complete\n"
     ]
    }
   ],
   "source": [
    "my_list = [1,2,3,4,5]\n",
    "\n",
    "_ = get_square(range(100000))"
   ]
  },
  {
   "cell_type": "code",
   "execution_count": 17,
   "id": "1d5021f1-19a9-4c04-92a4-49b8c04308d8",
   "metadata": {},
   "outputs": [
    {
     "name": "stdout",
     "output_type": "stream",
     "text": [
      "The function took 0.42443084716796875 seconds to complete\n"
     ]
    }
   ],
   "source": [
    "_ = get_cube(range(10000000))"
   ]
  },
  {
   "cell_type": "markdown",
   "id": "b87c10fc-d175-4e75-b975-8efd328a1b44",
   "metadata": {},
   "source": [
    "There is a way to easily find the total time without having to do the start and end in each function.     \n",
    "That would take a lot of time and effort to do if there are a lot of functions that are present."
   ]
  },
  {
   "cell_type": "code",
   "execution_count": null,
   "id": "b8660c69-ade3-4d28-a746-bbe4bb594c21",
   "metadata": {},
   "outputs": [],
   "source": []
  },
  {
   "cell_type": "code",
   "execution_count": null,
   "id": "92d6ce57-c200-4219-85ee-61028c8874c2",
   "metadata": {},
   "outputs": [],
   "source": []
  },
  {
   "cell_type": "code",
   "execution_count": 60,
   "id": "8e907acf-fa9c-4d50-a3e8-3c13ac2b3a6e",
   "metadata": {},
   "outputs": [],
   "source": [
    "\n",
    "def timer(func):\n",
    "    def wrapper(*args, **kwargs):\n",
    "        start = time.time()\n",
    "        result = func(*args, **kwargs)\n",
    "        end = time.time()\n",
    "        print(f\"Function {func.__name__} took {(end-start)*1000} milliseconds\")\n",
    "        return result\n",
    "    return wrapper"
   ]
  },
  {
   "cell_type": "code",
   "execution_count": 64,
   "id": "9342d0de-957f-4b23-8d88-febba9383abc",
   "metadata": {},
   "outputs": [],
   "source": [
    "#the @ is a decorator and the function above is the function for how that decorator should work\n",
    "@timer\n",
    "def get_square(numbers):\n",
    "    results = []\n",
    "    for n in numbers:\n",
    "        results.append(n*n)\n",
    "    return results"
   ]
  },
  {
   "cell_type": "code",
   "execution_count": 65,
   "id": "4d07620a-5495-4f93-9c34-2120c67a11ad",
   "metadata": {},
   "outputs": [
    {
     "name": "stdout",
     "output_type": "stream",
     "text": [
      "Function get_square took 0.09393692016601562 milliseconds\n"
     ]
    }
   ],
   "source": [
    "_ = get_square(range(1000))"
   ]
  },
  {
   "cell_type": "code",
   "execution_count": null,
   "id": "8d0cbd4c-1a2d-4eff-95db-9ed74ff80494",
   "metadata": {},
   "outputs": [],
   "source": []
  },
  {
   "cell_type": "code",
   "execution_count": null,
   "id": "8016eda4-e900-498a-8c8b-29cf4c6f91b8",
   "metadata": {},
   "outputs": [],
   "source": []
  }
 ],
 "metadata": {
  "kernelspec": {
   "display_name": "Python 3 (ipykernel)",
   "language": "python",
   "name": "python3"
  },
  "language_info": {
   "codemirror_mode": {
    "name": "ipython",
    "version": 3
   },
   "file_extension": ".py",
   "mimetype": "text/x-python",
   "name": "python",
   "nbconvert_exporter": "python",
   "pygments_lexer": "ipython3",
   "version": "3.11.7"
  }
 },
 "nbformat": 4,
 "nbformat_minor": 5
}
