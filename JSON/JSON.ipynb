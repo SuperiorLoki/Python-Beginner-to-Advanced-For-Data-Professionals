{
 "cells": [
  {
   "cell_type": "code",
   "execution_count": 1,
   "id": "8ec021cf-aa62-4386-81c2-b5ed21ccb8fd",
   "metadata": {},
   "outputs": [
    {
     "data": {
      "text/plain": [
       "str"
      ]
     },
     "execution_count": 1,
     "metadata": {},
     "output_type": "execute_result"
    }
   ],
   "source": [
    "# JSON string\n",
    "json_string = '''\n",
    "{\n",
    "    \"name\": \"Maulik\",\n",
    "    \"age\": 30,\n",
    "    \"is_employee\": true,\n",
    "    \"skills\": [\"Python\", \"Data Analysis\", \"Machine Learning\"],\n",
    "    \"address\": {\n",
    "        \"street\": \"123 Main St\",\n",
    "        \"city\": \"Wonderland\"\n",
    "    }\n",
    "}\n",
    "'''\n",
    "type(json_string)"
   ]
  },
  {
   "cell_type": "code",
   "execution_count": 2,
   "id": "31db463f-0160-482b-b84c-ec8d1f6018c6",
   "metadata": {},
   "outputs": [
    {
     "data": {
      "text/plain": [
       "'\\n{\\n    \"name\": \"Maulik\",\\n    \"age\": 30,\\n    \"is_employee\": true,\\n    \"skills\": [\"Python\", \"Data Analysis\", \"Machine Learning\"],\\n    \"address\": {\\n        \"street\": \"123 Main St\",\\n        \"city\": \"Wonderland\"\\n    }\\n}\\n'"
      ]
     },
     "execution_count": 2,
     "metadata": {},
     "output_type": "execute_result"
    }
   ],
   "source": [
    "json_string"
   ]
  },
  {
   "cell_type": "code",
   "execution_count": 3,
   "id": "a367351e-3a97-4b62-b2fc-733d3cafc930",
   "metadata": {},
   "outputs": [
    {
     "data": {
      "text/plain": [
       "{'name': 'Maulik',\n",
       " 'age': 30,\n",
       " 'is_employee': True,\n",
       " 'skills': ['Python', 'Data Analysis', 'Machine Learning'],\n",
       " 'address': {'street': '123 Main St', 'city': 'Wonderland'}}"
      ]
     },
     "execution_count": 3,
     "metadata": {},
     "output_type": "execute_result"
    }
   ],
   "source": [
    "#We convert the json string to a dictionary\n",
    "import json\n",
    "\n",
    "record = json.loads(json_string)\n",
    "record"
   ]
  },
  {
   "cell_type": "code",
   "execution_count": 4,
   "id": "df30b1aa-6270-4f7a-a7e8-a05a19597f3d",
   "metadata": {},
   "outputs": [
    {
     "data": {
      "text/plain": [
       "dict"
      ]
     },
     "execution_count": 4,
     "metadata": {},
     "output_type": "execute_result"
    }
   ],
   "source": [
    "type(record)"
   ]
  },
  {
   "cell_type": "code",
   "execution_count": 5,
   "id": "3f2eb9de-fe13-45c1-8425-9a27a78f3a72",
   "metadata": {},
   "outputs": [
    {
     "data": {
      "text/plain": [
       "30"
      ]
     },
     "execution_count": 5,
     "metadata": {},
     "output_type": "execute_result"
    }
   ],
   "source": [
    "record['age']"
   ]
  },
  {
   "cell_type": "code",
   "execution_count": 6,
   "id": "9ec61f42-7870-498a-af30-4f9e1349bf95",
   "metadata": {},
   "outputs": [
    {
     "data": {
      "text/plain": [
       "'{\"name\": \"Bob\", \"age\": 25, \"is_employee\": false, \"skills\": [\"JavaScript\", \"Web Development\"], \"address\": {\"street\": \"456 Elm St\", \"city\": \"Springfield\"}}'"
      ]
     },
     "execution_count": 6,
     "metadata": {},
     "output_type": "execute_result"
    }
   ],
   "source": [
    "#Can also convert dictionary to json\n",
    "data = {\n",
    "    \"name\": \"Bob\",\n",
    "    \"age\": 25,\n",
    "    \"is_employee\": False,\n",
    "    \"skills\": [\"JavaScript\", \"Web Development\"],\n",
    "    \"address\": {\n",
    "        \"street\": \"456 Elm St\",\n",
    "        \"city\": \"Springfield\"\n",
    "    }\n",
    "}\n",
    "\n",
    "data_str = json.dumps(data)\n",
    "data_str"
   ]
  },
  {
   "cell_type": "code",
   "execution_count": 7,
   "id": "ffc13130-3260-4b36-b09c-11076548192f",
   "metadata": {},
   "outputs": [
    {
     "data": {
      "text/plain": [
       "str"
      ]
     },
     "execution_count": 7,
     "metadata": {},
     "output_type": "execute_result"
    }
   ],
   "source": [
    "type(data_str)"
   ]
  },
  {
   "cell_type": "code",
   "execution_count": 8,
   "id": "5a81c568-7e5d-4dc2-b196-b03175900629",
   "metadata": {},
   "outputs": [],
   "source": [
    "#s (loads, dumps): For working with JSON data as strings in memory.\n",
    "\n",
    "#no s (load, dump): For working with JSON data in files."
   ]
  },
  {
   "cell_type": "code",
   "execution_count": 9,
   "id": "2b47479a-d7da-409b-b3cd-b5b099030c1e",
   "metadata": {},
   "outputs": [],
   "source": [
    "with open(\"output.json\", \"w\") as f:\n",
    "    json.dump(data, f, indent=4)"
   ]
  },
  {
   "cell_type": "code",
   "execution_count": 10,
   "id": "bfcdca01-40c2-4762-9668-0fbf961b1333",
   "metadata": {},
   "outputs": [
    {
     "data": {
      "text/plain": [
       "[{'product_id': 1,\n",
       "  'sku': 'ABC123',\n",
       "  'name': 'Wireless Mouse',\n",
       "  'price': 25.99,\n",
       "  'description': 'A comfortable wireless mouse with ergonomic design.',\n",
       "  'in_stock': True,\n",
       "  'category': 'Electronics'},\n",
       " {'product_id': 2,\n",
       "  'sku': 'XYZ789',\n",
       "  'name': 'Mechanical Keyboard',\n",
       "  'price': 89.99,\n",
       "  'description': 'A high-quality mechanical keyboard with customizable keys.',\n",
       "  'in_stock': True,\n",
       "  'category': 'Electronics'},\n",
       " {'product_id': 3,\n",
       "  'sku': 'LMN456',\n",
       "  'name': 'USB-C Charger',\n",
       "  'price': 19.99,\n",
       "  'description': 'A fast-charging USB-C charger with multiple ports.',\n",
       "  'in_stock': False,\n",
       "  'category': 'Accessories'},\n",
       " {'product_id': 4,\n",
       "  'sku': 'QWE234',\n",
       "  'name': 'Bluetooth Speaker',\n",
       "  'price': 49.99,\n",
       "  'description': 'A portable Bluetooth speaker with excellent sound quality.',\n",
       "  'in_stock': True,\n",
       "  'category': 'Audio'},\n",
       " {'product_id': 5,\n",
       "  'sku': 'RTY678',\n",
       "  'name': 'Smartphone Stand',\n",
       "  'price': 14.99,\n",
       "  'description': 'An adjustable smartphone stand for hands-free viewing.',\n",
       "  'in_stock': True,\n",
       "  'category': 'Accessories'}]"
      ]
     },
     "execution_count": 10,
     "metadata": {},
     "output_type": "execute_result"
    }
   ],
   "source": [
    "with open(\"products.json\", \"r\") as file:\n",
    "    products = json.load(file)\n",
    "\n",
    "products"
   ]
  },
  {
   "cell_type": "code",
   "execution_count": 11,
   "id": "537c7a8d-eea3-4882-b3b3-3b8c7cd8f153",
   "metadata": {},
   "outputs": [
    {
     "data": {
      "text/plain": [
       "list"
      ]
     },
     "execution_count": 11,
     "metadata": {},
     "output_type": "execute_result"
    }
   ],
   "source": [
    "type(products)"
   ]
  },
  {
   "cell_type": "code",
   "execution_count": 12,
   "id": "341717e4-f252-4c93-b1b3-c422002dad10",
   "metadata": {},
   "outputs": [
    {
     "data": {
      "text/plain": [
       "'Bluetooth Speaker'"
      ]
     },
     "execution_count": 12,
     "metadata": {},
     "output_type": "execute_result"
    }
   ],
   "source": [
    "products[3]['name']"
   ]
  },
  {
   "cell_type": "code",
   "execution_count": 13,
   "id": "f0b3215c-e7bf-430e-9c16-dac28f85ab76",
   "metadata": {},
   "outputs": [],
   "source": [
    "json_string_books = '''\n",
    "{\n",
    "    \"books\": [\n",
    "        {\"title\": \"The Magic Of Thinking Big\", \"author\": \"David J. Schwartz\", \"published\": 1959},\n",
    "        {\"title\": \"Chanakya Neeti\", \"author\": \"B.K. Chaturvedi\", \"published\": 2009},\n",
    "        {\"title\": \"How to Win Friends and Influence People\", \"author\": \"Dale Carnegie\", \"published\": 19}\n",
    "    ],\n",
    "    \"status_code\": 200\n",
    "}\n",
    "'''"
   ]
  },
  {
   "cell_type": "code",
   "execution_count": 14,
   "id": "2a7c4a0a-9a21-4ad4-a699-b4ce5f3403e8",
   "metadata": {},
   "outputs": [
    {
     "data": {
      "text/plain": [
       "{'books': [{'title': 'The Magic Of Thinking Big',\n",
       "   'author': 'David J. Schwartz',\n",
       "   'published': 1959},\n",
       "  {'title': 'Chanakya Neeti', 'author': 'B.K. Chaturvedi', 'published': 2009},\n",
       "  {'title': 'How to Win Friends and Influence People',\n",
       "   'author': 'Dale Carnegie',\n",
       "   'published': 19}],\n",
       " 'status_code': 200}"
      ]
     },
     "execution_count": 14,
     "metadata": {},
     "output_type": "execute_result"
    }
   ],
   "source": [
    "book_dict = json.loads(json_string_books)\n",
    "book_dict"
   ]
  },
  {
   "cell_type": "code",
   "execution_count": 15,
   "id": "c8c6ee4b-b9ca-4a7e-be7b-be5b3fc2a4b8",
   "metadata": {},
   "outputs": [
    {
     "data": {
      "text/plain": [
       "dict"
      ]
     },
     "execution_count": 15,
     "metadata": {},
     "output_type": "execute_result"
    }
   ],
   "source": [
    "type(book_dict)"
   ]
  },
  {
   "cell_type": "code",
   "execution_count": 16,
   "id": "7af2b3ec-bfd0-4dfd-9622-099b1455f3ed",
   "metadata": {},
   "outputs": [
    {
     "data": {
      "text/plain": [
       "'Chanakya Neeti'"
      ]
     },
     "execution_count": 16,
     "metadata": {},
     "output_type": "execute_result"
    }
   ],
   "source": [
    "book_dict['books'][1]['title']"
   ]
  },
  {
   "cell_type": "code",
   "execution_count": 17,
   "id": "bac40dd2-da3f-4d89-8744-39ebf71ddd97",
   "metadata": {},
   "outputs": [],
   "source": [
    "books = book_dict['books']"
   ]
  },
  {
   "cell_type": "code",
   "execution_count": 18,
   "id": "e68036d4-c585-425e-8c51-d380ef79256e",
   "metadata": {},
   "outputs": [],
   "source": [
    "new_books = [{'title': book['title'], 'author': book['author']} for book in books]"
   ]
  },
  {
   "cell_type": "code",
   "execution_count": 19,
   "id": "7d708a5e-7db2-4c41-9bef-97003032a2e1",
   "metadata": {},
   "outputs": [
    {
     "data": {
      "text/plain": [
       "[{'title': 'The Magic Of Thinking Big', 'author': 'David J. Schwartz'},\n",
       " {'title': 'Chanakya Neeti', 'author': 'B.K. Chaturvedi'},\n",
       " {'title': 'How to Win Friends and Influence People',\n",
       "  'author': 'Dale Carnegie'}]"
      ]
     },
     "execution_count": 19,
     "metadata": {},
     "output_type": "execute_result"
    }
   ],
   "source": [
    "new_books"
   ]
  },
  {
   "cell_type": "code",
   "execution_count": 22,
   "id": "5b880327-3d01-458a-b526-fb61673b28a7",
   "metadata": {},
   "outputs": [],
   "source": [
    "#malformed JSON String (no comma)\n",
    "json_string = '''\n",
    "{\n",
    "    \"name\": \"Krishna\",\n",
    "    \"age\": 30\n",
    "    \"is_employee\": true\n",
    "}\n",
    "'''"
   ]
  },
  {
   "cell_type": "code",
   "execution_count": 26,
   "id": "46b82594-80df-4ec9-88e0-4ea15c4ab937",
   "metadata": {},
   "outputs": [
    {
     "name": "stdout",
     "output_type": "stream",
     "text": [
      "Something wrong with the json as it threw a Expecting ',' delimiter: line 5 column 5 (char 44) error\n"
     ]
    }
   ],
   "source": [
    "try:\n",
    "    json.loads(json_string)\n",
    "except json.JSONDecodeError as e:\n",
    "    print(f\"Something wrong with the json as it threw a {e} error\")"
   ]
  },
  {
   "cell_type": "code",
   "execution_count": null,
   "id": "56125e66-5a68-4fd1-a4e9-eb81050ab69a",
   "metadata": {},
   "outputs": [],
   "source": []
  }
 ],
 "metadata": {
  "kernelspec": {
   "display_name": "Python 3 (ipykernel)",
   "language": "python",
   "name": "python3"
  },
  "language_info": {
   "codemirror_mode": {
    "name": "ipython",
    "version": 3
   },
   "file_extension": ".py",
   "mimetype": "text/x-python",
   "name": "python",
   "nbconvert_exporter": "python",
   "pygments_lexer": "ipython3",
   "version": "3.11.7"
  }
 },
 "nbformat": 4,
 "nbformat_minor": 5
}
