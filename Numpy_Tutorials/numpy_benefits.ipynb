{
 "cells": [
  {
   "cell_type": "code",
   "execution_count": 2,
   "id": "6f1bc4f6-b45d-41f9-8556-0eeca53924a7",
   "metadata": {},
   "outputs": [],
   "source": [
    "import numpy as np"
   ]
  },
  {
   "cell_type": "code",
   "execution_count": 3,
   "id": "2183a0cd-c9d5-4eb9-bce4-99d7f81f4e0f",
   "metadata": {},
   "outputs": [
    {
     "data": {
      "text/plain": [
       "array([1, 2, 3])"
      ]
     },
     "execution_count": 3,
     "metadata": {},
     "output_type": "execute_result"
    }
   ],
   "source": [
    "arr = np.array([1,2,3])\n",
    "arr"
   ]
  },
  {
   "cell_type": "code",
   "execution_count": 7,
   "id": "927f876f-2fbd-426a-a7ad-f58c566bf4a9",
   "metadata": {},
   "outputs": [],
   "source": [
    "#Numpy array occupies less space as compared to a python list. \n",
    "#The reason for that is python supports all types of stuff in its lists and this makes it difficult for it to save memory\n",
    "#numpy arrays don't have any breaks in how they store, so there is no wasted space so this means it runs faster"
   ]
  },
  {
   "cell_type": "code",
   "execution_count": null,
   "id": "0d935c59-9f5d-48ae-bb42-209731c5883d",
   "metadata": {},
   "outputs": [],
   "source": []
  },
  {
   "cell_type": "markdown",
   "id": "b9efe9fb-48ea-4664-a385-a651c91a4eaf",
   "metadata": {},
   "source": [
    "Convenient Use with Built-In Functions"
   ]
  },
  {
   "cell_type": "code",
   "execution_count": 8,
   "id": "0ec6fabd-cff3-49ec-b2f4-051caed4a158",
   "metadata": {},
   "outputs": [
    {
     "data": {
      "text/plain": [
       "[0, 1, 2, 3, 4, 5, 0, 1, 2, 3, 4, 5]"
      ]
     },
     "execution_count": 8,
     "metadata": {},
     "output_type": "execute_result"
    }
   ],
   "source": [
    "#Python List:\n",
    "l1 = [0,1,2,3,4,5]\n",
    "l2 = [0,1,2,3,4,5]\n",
    "l1+l2"
   ]
  },
  {
   "cell_type": "code",
   "execution_count": 11,
   "id": "6f84d511-165a-4bd7-a954-e3e949314958",
   "metadata": {},
   "outputs": [
    {
     "data": {
      "text/plain": [
       "[0, 2, 4, 6, 8, 10]"
      ]
     },
     "execution_count": 11,
     "metadata": {},
     "output_type": "execute_result"
    }
   ],
   "source": [
    "#But what if we want to add both values\n",
    "#In Python:\n",
    "l3 = [x+y for x,y in zip(l1,l2)]\n",
    "l3"
   ]
  },
  {
   "cell_type": "code",
   "execution_count": 12,
   "id": "8058af67-1cac-41d6-86e7-933ccd81357c",
   "metadata": {},
   "outputs": [
    {
     "data": {
      "text/plain": [
       "array([ 0,  2,  4,  6,  8, 10])"
      ]
     },
     "execution_count": 12,
     "metadata": {},
     "output_type": "execute_result"
    }
   ],
   "source": [
    "#In numpy:\n",
    "arr1 = np.array([0,1,2,3,4,5])\n",
    "arr2 = np.array([0,1,2,3,4,5])\n",
    "arr1+arr2"
   ]
  },
  {
   "cell_type": "code",
   "execution_count": null,
   "id": "4dd81536-a4b2-405e-8a0c-977f48d72a42",
   "metadata": {},
   "outputs": [],
   "source": []
  }
 ],
 "metadata": {
  "kernelspec": {
   "display_name": "Python 3 (ipykernel)",
   "language": "python",
   "name": "python3"
  },
  "language_info": {
   "codemirror_mode": {
    "name": "ipython",
    "version": 3
   },
   "file_extension": ".py",
   "mimetype": "text/x-python",
   "name": "python",
   "nbconvert_exporter": "python",
   "pygments_lexer": "ipython3",
   "version": "3.11.7"
  }
 },
 "nbformat": 4,
 "nbformat_minor": 5
}
