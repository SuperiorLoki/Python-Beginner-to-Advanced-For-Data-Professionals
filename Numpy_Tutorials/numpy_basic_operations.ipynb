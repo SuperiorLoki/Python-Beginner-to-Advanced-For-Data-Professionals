{
 "cells": [
  {
   "cell_type": "code",
   "execution_count": 1,
   "id": "5926a119-d5d7-49cf-b59f-9d4a3ce5534f",
   "metadata": {},
   "outputs": [],
   "source": [
    "import numpy as np"
   ]
  },
  {
   "cell_type": "code",
   "execution_count": 2,
   "id": "a7b465f6-4990-4bcd-a5f2-9b4ff5725441",
   "metadata": {},
   "outputs": [],
   "source": [
    "rev_q1 = np.array([10,12,9])"
   ]
  },
  {
   "cell_type": "code",
   "execution_count": 3,
   "id": "29fe35f1-f62f-45ec-85ee-4458ec046be2",
   "metadata": {},
   "outputs": [
    {
     "data": {
      "text/plain": [
       "1"
      ]
     },
     "execution_count": 3,
     "metadata": {},
     "output_type": "execute_result"
    }
   ],
   "source": [
    "# no. of dimensions\n",
    "rev_q1.ndim"
   ]
  },
  {
   "cell_type": "code",
   "execution_count": 4,
   "id": "8e1536c6-5d60-4451-b64c-5a97e8372c1d",
   "metadata": {},
   "outputs": [
    {
     "data": {
      "text/plain": [
       "2"
      ]
     },
     "execution_count": 4,
     "metadata": {},
     "output_type": "execute_result"
    }
   ],
   "source": [
    "rev = np.array([[10,12,9],[15,11,13]])\n",
    "rev.ndim"
   ]
  },
  {
   "cell_type": "code",
   "execution_count": 5,
   "id": "9d2572b0-79bd-4041-aecb-e1c53bbdf58c",
   "metadata": {},
   "outputs": [
    {
     "data": {
      "text/plain": [
       "15"
      ]
     },
     "execution_count": 5,
     "metadata": {},
     "output_type": "execute_result"
    }
   ],
   "source": [
    "#Indexing\n",
    "rev[1,0]"
   ]
  },
  {
   "cell_type": "code",
   "execution_count": 6,
   "id": "771f073f-4f04-40b3-a9ae-eca61e625fce",
   "metadata": {},
   "outputs": [
    {
     "data": {
      "text/plain": [
       "13"
      ]
     },
     "execution_count": 6,
     "metadata": {},
     "output_type": "execute_result"
    }
   ],
   "source": [
    "rev[1,2]"
   ]
  },
  {
   "cell_type": "code",
   "execution_count": 7,
   "id": "ce8ef912-02eb-4969-9e99-6da45d6a60b6",
   "metadata": {},
   "outputs": [],
   "source": [
    "rev[1,2] = 14"
   ]
  },
  {
   "cell_type": "code",
   "execution_count": 8,
   "id": "5375386b-f0b3-427f-89b7-fb515b2de05b",
   "metadata": {},
   "outputs": [
    {
     "data": {
      "text/plain": [
       "array([[10, 12,  9],\n",
       "       [15, 11, 14]])"
      ]
     },
     "execution_count": 8,
     "metadata": {},
     "output_type": "execute_result"
    }
   ],
   "source": [
    "rev"
   ]
  },
  {
   "cell_type": "code",
   "execution_count": 9,
   "id": "34185521-97ec-4b6b-85ad-2b7a56cf9664",
   "metadata": {},
   "outputs": [
    {
     "data": {
      "text/plain": [
       "dtype('int64')"
      ]
     },
     "execution_count": 9,
     "metadata": {},
     "output_type": "execute_result"
    }
   ],
   "source": [
    "rev.dtype"
   ]
  },
  {
   "cell_type": "code",
   "execution_count": 10,
   "id": "cc3e4b8c-73c4-456a-a8e7-dc6a845792d7",
   "metadata": {},
   "outputs": [
    {
     "data": {
      "text/plain": [
       "8"
      ]
     },
     "execution_count": 10,
     "metadata": {},
     "output_type": "execute_result"
    }
   ],
   "source": [
    "#The memory each of them takes up \n",
    "rev.itemsize"
   ]
  },
  {
   "cell_type": "code",
   "execution_count": 11,
   "id": "147e4756-6cbe-4f56-8dbe-f7fbaec7acd5",
   "metadata": {},
   "outputs": [
    {
     "data": {
      "text/plain": [
       "6"
      ]
     },
     "execution_count": 11,
     "metadata": {},
     "output_type": "execute_result"
    }
   ],
   "source": [
    "#The size of the array\n",
    "rev.size"
   ]
  },
  {
   "cell_type": "code",
   "execution_count": 12,
   "id": "15645a60-868e-45d3-8c1e-5a08f7318504",
   "metadata": {},
   "outputs": [
    {
     "data": {
      "text/plain": [
       "(2, 3)"
      ]
     },
     "execution_count": 12,
     "metadata": {},
     "output_type": "execute_result"
    }
   ],
   "source": [
    "#Rows and columns\n",
    "rev.shape"
   ]
  },
  {
   "cell_type": "code",
   "execution_count": 13,
   "id": "7f13983b-5dea-42c5-b8cb-50690c98b970",
   "metadata": {},
   "outputs": [
    {
     "data": {
      "text/plain": [
       "array([[ 9, 10, 12],\n",
       "       [11, 14, 15]])"
      ]
     },
     "execution_count": 13,
     "metadata": {},
     "output_type": "execute_result"
    }
   ],
   "source": [
    "np.sort(rev)"
   ]
  },
  {
   "cell_type": "code",
   "execution_count": 14,
   "id": "dbba68d6-4b2e-45b9-b0db-c39f78964480",
   "metadata": {},
   "outputs": [
    {
     "data": {
      "text/plain": [
       "array([ 9, 10, 11, 12, 14, 15])"
      ]
     },
     "execution_count": 14,
     "metadata": {},
     "output_type": "execute_result"
    }
   ],
   "source": [
    "#To see it in ascending order\n",
    "np.sort(rev, axis=None)"
   ]
  },
  {
   "cell_type": "code",
   "execution_count": 15,
   "id": "0c3b81b9-b488-4127-bce2-c968aafd7d56",
   "metadata": {},
   "outputs": [
    {
     "data": {
      "text/plain": [
       "array([[0., 0., 0.],\n",
       "       [0., 0., 0.]])"
      ]
     },
     "execution_count": 15,
     "metadata": {},
     "output_type": "execute_result"
    }
   ],
   "source": [
    "#Empty array\n",
    "#Useful for neural networks because they can be used for the weights\n",
    "np.zeros((2,3))"
   ]
  },
  {
   "cell_type": "code",
   "execution_count": 16,
   "id": "5c495d96-85fa-46e1-af2b-bb221af15231",
   "metadata": {},
   "outputs": [
    {
     "data": {
      "text/plain": [
       "array([[1., 1., 1.],\n",
       "       [1., 1., 1.]])"
      ]
     },
     "execution_count": 16,
     "metadata": {},
     "output_type": "execute_result"
    }
   ],
   "source": [
    "np.ones((2,3))"
   ]
  },
  {
   "cell_type": "code",
   "execution_count": 20,
   "id": "2f8be261-dd21-491a-9a8b-0f6f03f473b7",
   "metadata": {},
   "outputs": [
    {
     "data": {
      "text/plain": [
       "array([23, 24, 25, 26, 27, 28, 29])"
      ]
     },
     "execution_count": 20,
     "metadata": {},
     "output_type": "execute_result"
    }
   ],
   "source": [
    "np.arange(23,30)"
   ]
  },
  {
   "cell_type": "code",
   "execution_count": 21,
   "id": "60554285-e5f7-4e50-bf22-7279341659fb",
   "metadata": {},
   "outputs": [
    {
     "data": {
      "text/plain": [
       "array([23, 25, 27, 29])"
      ]
     },
     "execution_count": 21,
     "metadata": {},
     "output_type": "execute_result"
    }
   ],
   "source": [
    "#The last number is how much it increments\n",
    "np.arange(23,30, 2)"
   ]
  },
  {
   "cell_type": "code",
   "execution_count": 23,
   "id": "4a2eaecd-13c6-4077-a10b-2b93b332d3e2",
   "metadata": {},
   "outputs": [
    {
     "data": {
      "text/plain": [
       "array([10., 15., 20.])"
      ]
     },
     "execution_count": 23,
     "metadata": {},
     "output_type": "execute_result"
    }
   ],
   "source": [
    "#You can also say how many number you want total between what range and it will do the math\n",
    "np.linspace(10,20,3)"
   ]
  },
  {
   "cell_type": "code",
   "execution_count": null,
   "id": "2fe99099-04e9-4499-8cb3-e1b85e9c6a44",
   "metadata": {},
   "outputs": [],
   "source": []
  },
  {
   "cell_type": "code",
   "execution_count": 24,
   "id": "5ed19230-33e4-446b-978c-fd3d6bdb8186",
   "metadata": {},
   "outputs": [
    {
     "data": {
      "text/plain": [
       "array([[10, 12,  9],\n",
       "       [15, 11, 14]])"
      ]
     },
     "execution_count": 24,
     "metadata": {},
     "output_type": "execute_result"
    }
   ],
   "source": [
    "rev"
   ]
  },
  {
   "cell_type": "code",
   "execution_count": 25,
   "id": "f4449e1a-dcb7-44dc-9b13-4cdedb21fef8",
   "metadata": {},
   "outputs": [
    {
     "data": {
      "text/plain": [
       "array([10, 12,  9, 15, 11, 14])"
      ]
     },
     "execution_count": 25,
     "metadata": {},
     "output_type": "execute_result"
    }
   ],
   "source": [
    "#If you want to flatten the array \n",
    "rev.ravel()"
   ]
  },
  {
   "cell_type": "code",
   "execution_count": 26,
   "id": "ec51ac15-d3bd-4e1f-8cf2-bb92c52fa348",
   "metadata": {},
   "outputs": [
    {
     "data": {
      "text/plain": [
       "array([10, 12,  9, 15, 11, 14])"
      ]
     },
     "execution_count": 26,
     "metadata": {},
     "output_type": "execute_result"
    }
   ],
   "source": [
    "#Same as ravel, but returns a new array\n",
    "rev.flatten()"
   ]
  },
  {
   "cell_type": "code",
   "execution_count": 27,
   "id": "e24b0803-6c6c-40b8-afbb-8e02bc6dd5f0",
   "metadata": {},
   "outputs": [
    {
     "data": {
      "text/plain": [
       "array([[10, 12],\n",
       "       [ 9, 15],\n",
       "       [11, 14]])"
      ]
     },
     "execution_count": 27,
     "metadata": {},
     "output_type": "execute_result"
    }
   ],
   "source": [
    "#You can change the column and row features \n",
    "rev.reshape(3,2)"
   ]
  },
  {
   "cell_type": "code",
   "execution_count": 28,
   "id": "dac486d8-4414-4355-a12f-13318537bd03",
   "metadata": {},
   "outputs": [
    {
     "data": {
      "text/plain": [
       "array([[10, 12,  9],\n",
       "       [15, 11, 14]])"
      ]
     },
     "execution_count": 28,
     "metadata": {},
     "output_type": "execute_result"
    }
   ],
   "source": [
    "rev"
   ]
  },
  {
   "cell_type": "code",
   "execution_count": 29,
   "id": "ff5785fd-2bd8-403c-9f47-016328a4de9c",
   "metadata": {},
   "outputs": [
    {
     "data": {
      "text/plain": [
       "9"
      ]
     },
     "execution_count": 29,
     "metadata": {},
     "output_type": "execute_result"
    }
   ],
   "source": [
    "rev.min()"
   ]
  },
  {
   "cell_type": "code",
   "execution_count": 30,
   "id": "61f20727-0a96-4d08-bb1a-3ffc680b398e",
   "metadata": {},
   "outputs": [
    {
     "data": {
      "text/plain": [
       "15"
      ]
     },
     "execution_count": 30,
     "metadata": {},
     "output_type": "execute_result"
    }
   ],
   "source": [
    "rev.max()"
   ]
  },
  {
   "cell_type": "code",
   "execution_count": 31,
   "id": "7b46bf4e-b255-40c8-a457-263152aae63a",
   "metadata": {},
   "outputs": [
    {
     "data": {
      "text/plain": [
       "array([31, 40])"
      ]
     },
     "execution_count": 31,
     "metadata": {},
     "output_type": "execute_result"
    }
   ],
   "source": [
    "#axis = 1 means it will sum up by the row\n",
    "rev.sum(axis=1)"
   ]
  },
  {
   "cell_type": "code",
   "execution_count": 32,
   "id": "88863bf5-1bcf-41d6-8cd7-a5d84afd2ec1",
   "metadata": {},
   "outputs": [
    {
     "data": {
      "text/plain": [
       "array([25, 23, 23])"
      ]
     },
     "execution_count": 32,
     "metadata": {},
     "output_type": "execute_result"
    }
   ],
   "source": [
    "#axis = 0 means it will sum up by the columns\n",
    "rev.sum(axis=0)"
   ]
  },
  {
   "cell_type": "code",
   "execution_count": 33,
   "id": "929706e3-0d7a-4507-87b6-5babbee87115",
   "metadata": {},
   "outputs": [
    {
     "name": "stdout",
     "output_type": "stream",
     "text": [
      "row:->  [10 12  9]\n",
      "row:->  [15 11 14]\n"
     ]
    }
   ],
   "source": [
    "for row in rev:\n",
    "    print(\"row:-> \", row)"
   ]
  },
  {
   "cell_type": "code",
   "execution_count": 34,
   "id": "ad4e6b53-f383-43dd-9879-4b46a98d9779",
   "metadata": {},
   "outputs": [],
   "source": [
    "b = np.array([1,4,16])"
   ]
  },
  {
   "cell_type": "code",
   "execution_count": 36,
   "id": "c73203a5-7cc6-442b-972b-01b566a93fbb",
   "metadata": {},
   "outputs": [
    {
     "data": {
      "text/plain": [
       "array([1., 2., 4.])"
      ]
     },
     "execution_count": 36,
     "metadata": {},
     "output_type": "execute_result"
    }
   ],
   "source": [
    "np.sqrt(b)"
   ]
  },
  {
   "cell_type": "code",
   "execution_count": 37,
   "id": "45f5b2fd-7730-4fc8-8f8a-ba9461fc20c0",
   "metadata": {},
   "outputs": [
    {
     "data": {
      "text/plain": [
       "array([  1,  16, 256])"
      ]
     },
     "execution_count": 37,
     "metadata": {},
     "output_type": "execute_result"
    }
   ],
   "source": [
    "np.square(b)"
   ]
  },
  {
   "cell_type": "code",
   "execution_count": 39,
   "id": "5fb1ebaf-a933-4a9e-b438-1d47f31de101",
   "metadata": {},
   "outputs": [],
   "source": [
    "#All this information can be found in the NumPy documentation page"
   ]
  },
  {
   "cell_type": "code",
   "execution_count": null,
   "id": "cbc7cf0b-5d50-42cc-ad71-38d9e4a70305",
   "metadata": {},
   "outputs": [],
   "source": []
  }
 ],
 "metadata": {
  "kernelspec": {
   "display_name": "Python 3 (ipykernel)",
   "language": "python",
   "name": "python3"
  },
  "language_info": {
   "codemirror_mode": {
    "name": "ipython",
    "version": 3
   },
   "file_extension": ".py",
   "mimetype": "text/x-python",
   "name": "python",
   "nbconvert_exporter": "python",
   "pygments_lexer": "ipython3",
   "version": "3.11.7"
  }
 },
 "nbformat": 4,
 "nbformat_minor": 5
}
