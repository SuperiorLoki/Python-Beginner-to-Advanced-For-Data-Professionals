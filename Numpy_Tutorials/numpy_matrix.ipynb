{
 "cells": [
  {
   "cell_type": "code",
   "execution_count": 1,
   "id": "0f1f2417-30ce-4750-b4b1-d985e4a5c4e3",
   "metadata": {},
   "outputs": [],
   "source": [
    "import numpy as np"
   ]
  },
  {
   "cell_type": "code",
   "execution_count": 6,
   "id": "ece19248-b365-4bbc-bc7c-a3b7a572774b",
   "metadata": {},
   "outputs": [],
   "source": [
    "#Sales Data for Quarter 1 and Quarter 2\n",
    "#Rows represent different products, columns represent different regions\n",
    "\n",
    "q1 = np.array([\n",
    "#    US  IND CHINA\n",
    "    [200,220,250], # Product A - iPhone\n",
    "    [150,180,210], # Product B - iPad\n",
    "    [300,330,360]  # Product C - Macbook\n",
    "])\n",
    "\n",
    "q2 = np.array([\n",
    "#    USA  IND CHINA\n",
    "    [209,231,259], # Product A - iPhone\n",
    "    [155,192,222], # Product B - iPad\n",
    "    [310,340,375]  # Product C - Macbook\n",
    "])"
   ]
  },
  {
   "cell_type": "code",
   "execution_count": 8,
   "id": "1ca84d63-6842-461c-ab26-95eaf8de4e8b",
   "metadata": {},
   "outputs": [
    {
     "data": {
      "text/plain": [
       "array([[409, 451, 509],\n",
       "       [305, 372, 432],\n",
       "       [610, 670, 735]])"
      ]
     },
     "execution_count": 8,
     "metadata": {},
     "output_type": "execute_result"
    }
   ],
   "source": [
    "#Combining sales done in both quarters\n",
    "q1 + q2"
   ]
  },
  {
   "cell_type": "code",
   "execution_count": 9,
   "id": "faffece8-539c-4c7d-9bb5-3857ef9de8fc",
   "metadata": {},
   "outputs": [
    {
     "data": {
      "text/plain": [
       "array([[ 9, 11,  9],\n",
       "       [ 5, 12, 12],\n",
       "       [10, 10, 15]])"
      ]
     },
     "execution_count": 9,
     "metadata": {},
     "output_type": "execute_result"
    }
   ],
   "source": [
    "#Finding the difference between the quarters\n",
    "q2 - q1"
   ]
  },
  {
   "cell_type": "code",
   "execution_count": 10,
   "id": "7aae3c2b-8b9d-4f34-8cde-a383d4f8a00e",
   "metadata": {},
   "outputs": [
    {
     "data": {
      "text/plain": [
       "array([[4.5       , 5.        , 3.6       ],\n",
       "       [3.33333333, 6.66666667, 5.71428571],\n",
       "       [3.33333333, 3.03030303, 4.16666667]])"
      ]
     },
     "execution_count": 10,
     "metadata": {},
     "output_type": "execute_result"
    }
   ],
   "source": [
    "#Finding the percentage increase\n",
    "(q2-q1)*100/q1"
   ]
  },
  {
   "cell_type": "code",
   "execution_count": 14,
   "id": "0954ede8-3e2d-492d-b4f0-340a647f550d",
   "metadata": {},
   "outputs": [
    {
     "data": {
      "text/plain": [
       "array([[2000, 2640, 2750],\n",
       "       [1200, 1620, 2100],\n",
       "       [4500, 5280, 6120]])"
      ]
     },
     "execution_count": 14,
     "metadata": {},
     "output_type": "execute_result"
    }
   ],
   "source": [
    "prices = np.array([\n",
    "#    USA  IND CHINA\n",
    "    [10, 12, 11], # Prices for Product A - iPhone\n",
    "    [8,  9,  10], # Prices for Product B - iPad\n",
    "    [15, 16, 17]  # Prices for Product C - MacBook\n",
    "])\n",
    "\n",
    "q1_revenue = q1 * prices\n",
    "q1_revenue"
   ]
  },
  {
   "cell_type": "code",
   "execution_count": 17,
   "id": "16761e2d-3a8c-405c-b32a-7b040c9ca556",
   "metadata": {},
   "outputs": [
    {
     "data": {
      "text/plain": [
       "array([[ 400.,  528.,  550.],\n",
       "       [ 240.,  324.,  420.],\n",
       "       [ 900., 1056., 1224.]])"
      ]
     },
     "execution_count": 17,
     "metadata": {},
     "output_type": "execute_result"
    }
   ],
   "source": [
    "q1_discounts = q1_revenue*0.2\n",
    "q1_discounts"
   ]
  },
  {
   "cell_type": "code",
   "execution_count": 18,
   "id": "3165f17e-09da-4268-812e-a47d63688237",
   "metadata": {},
   "outputs": [
    {
     "data": {
      "text/plain": [
       "array([[1600., 2112., 2200.],\n",
       "       [ 960., 1296., 1680.],\n",
       "       [3600., 4224., 4896.]])"
      ]
     },
     "execution_count": 18,
     "metadata": {},
     "output_type": "execute_result"
    }
   ],
   "source": [
    "#revenue - discount is the net revenue\n",
    "net_revenue = q1_revenue - q1_discounts\n",
    "net_revenue"
   ]
  },
  {
   "cell_type": "code",
   "execution_count": 19,
   "id": "f6817743-79d7-4180-a8e6-adac241e3463",
   "metadata": {},
   "outputs": [
    {
     "data": {
      "text/plain": [
       "5642.0"
      ]
     },
     "execution_count": 19,
     "metadata": {},
     "output_type": "execute_result"
    }
   ],
   "source": [
    "np.sum(q1_discounts)"
   ]
  },
  {
   "cell_type": "code",
   "execution_count": 20,
   "id": "042e763f-8590-4525-9cee-a1671f00060b",
   "metadata": {},
   "outputs": [
    {
     "data": {
      "text/plain": [
       "22568.0"
      ]
     },
     "execution_count": 20,
     "metadata": {},
     "output_type": "execute_result"
    }
   ],
   "source": [
    "np.sum(net_revenue)"
   ]
  },
  {
   "cell_type": "code",
   "execution_count": 24,
   "id": "9ed6218f-0f04-44c6-ad66-a99a384a86b7",
   "metadata": {},
   "outputs": [
    {
     "data": {
      "text/plain": [
       "array([450000, 370000])"
      ]
     },
     "execution_count": 24,
     "metadata": {},
     "output_type": "execute_result"
    }
   ],
   "source": [
    "features = np.array([\n",
    "    [2000, 3], # house 1 - sqaure feet and bedrooms\n",
    "    [1800, 2]  # house 2 - sqaure feet and bedrooms\n",
    "])\n",
    "\n",
    "#Weights is the metric that can be used to caclulate the price \n",
    "weights = np.array([150, 50000])\n",
    "\n",
    "#Does dot product on the two matrices \n",
    "np.dot(features, weights)"
   ]
  },
  {
   "cell_type": "code",
   "execution_count": 25,
   "id": "2f1e7983-9351-4e02-aec5-2871b8c689a5",
   "metadata": {},
   "outputs": [
    {
     "data": {
      "text/plain": [
       "array([-3,  6, -3])"
      ]
     },
     "execution_count": 25,
     "metadata": {},
     "output_type": "execute_result"
    }
   ],
   "source": [
    "c = np.array([1,2,3])\n",
    "d = np.array([4,5,6])\n",
    "\n",
    "#Does cross product on the two matrices \n",
    "np.cross(c,d)"
   ]
  },
  {
   "cell_type": "code",
   "execution_count": null,
   "id": "4e5d16de-1167-4e09-bf0b-5a70001fd9cf",
   "metadata": {},
   "outputs": [],
   "source": []
  }
 ],
 "metadata": {
  "kernelspec": {
   "display_name": "Python 3 (ipykernel)",
   "language": "python",
   "name": "python3"
  },
  "language_info": {
   "codemirror_mode": {
    "name": "ipython",
    "version": 3
   },
   "file_extension": ".py",
   "mimetype": "text/x-python",
   "name": "python",
   "nbconvert_exporter": "python",
   "pygments_lexer": "ipython3",
   "version": "3.11.7"
  }
 },
 "nbformat": 4,
 "nbformat_minor": 5
}
