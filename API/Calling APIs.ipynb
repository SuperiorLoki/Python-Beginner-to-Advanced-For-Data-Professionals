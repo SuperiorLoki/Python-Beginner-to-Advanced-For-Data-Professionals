{
 "cells": [
  {
   "cell_type": "code",
   "execution_count": 1,
   "id": "745221cd-3a29-43c0-b454-34c3ba9417b7",
   "metadata": {},
   "outputs": [],
   "source": [
    "import requests"
   ]
  },
  {
   "cell_type": "code",
   "execution_count": 2,
   "id": "f9c4f605-43d1-433d-bfc7-ea2d6bb934e6",
   "metadata": {},
   "outputs": [
    {
     "data": {
      "text/plain": [
       "<Response [200]>"
      ]
     },
     "execution_count": 2,
     "metadata": {},
     "output_type": "execute_result"
    }
   ],
   "source": [
    "url = 'https://jsonplaceholder.typicode.com/posts/1'\n",
    "\n",
    "requests.get(url)"
   ]
  },
  {
   "cell_type": "code",
   "execution_count": 3,
   "id": "84053070-46df-4a7d-b8b0-f1636565bf04",
   "metadata": {},
   "outputs": [
    {
     "data": {
      "text/plain": [
       "['__attrs__',\n",
       " '__bool__',\n",
       " '__class__',\n",
       " '__delattr__',\n",
       " '__dict__',\n",
       " '__dir__',\n",
       " '__doc__',\n",
       " '__enter__',\n",
       " '__eq__',\n",
       " '__exit__',\n",
       " '__format__',\n",
       " '__ge__',\n",
       " '__getattribute__',\n",
       " '__getstate__',\n",
       " '__gt__',\n",
       " '__hash__',\n",
       " '__init__',\n",
       " '__init_subclass__',\n",
       " '__iter__',\n",
       " '__le__',\n",
       " '__lt__',\n",
       " '__module__',\n",
       " '__ne__',\n",
       " '__new__',\n",
       " '__nonzero__',\n",
       " '__reduce__',\n",
       " '__reduce_ex__',\n",
       " '__repr__',\n",
       " '__setattr__',\n",
       " '__setstate__',\n",
       " '__sizeof__',\n",
       " '__str__',\n",
       " '__subclasshook__',\n",
       " '__weakref__',\n",
       " '_content',\n",
       " '_content_consumed',\n",
       " '_next',\n",
       " 'apparent_encoding',\n",
       " 'close',\n",
       " 'connection',\n",
       " 'content',\n",
       " 'cookies',\n",
       " 'elapsed',\n",
       " 'encoding',\n",
       " 'headers',\n",
       " 'history',\n",
       " 'is_permanent_redirect',\n",
       " 'is_redirect',\n",
       " 'iter_content',\n",
       " 'iter_lines',\n",
       " 'json',\n",
       " 'links',\n",
       " 'next',\n",
       " 'ok',\n",
       " 'raise_for_status',\n",
       " 'raw',\n",
       " 'reason',\n",
       " 'request',\n",
       " 'status_code',\n",
       " 'text',\n",
       " 'url']"
      ]
     },
     "execution_count": 3,
     "metadata": {},
     "output_type": "execute_result"
    }
   ],
   "source": [
    "response = requests.get(url)\n",
    "dir(response)"
   ]
  },
  {
   "cell_type": "code",
   "execution_count": 4,
   "id": "3437bfa4-074a-40a5-8d10-e0c0a503f6cc",
   "metadata": {},
   "outputs": [
    {
     "data": {
      "text/plain": [
       "200"
      ]
     },
     "execution_count": 4,
     "metadata": {},
     "output_type": "execute_result"
    }
   ],
   "source": [
    "#200 means successful \n",
    "response.status_code"
   ]
  },
  {
   "cell_type": "code",
   "execution_count": 5,
   "id": "5e02c51c-bc99-4050-b34d-d09fe13c4870",
   "metadata": {},
   "outputs": [
    {
     "data": {
      "text/plain": [
       "{'userId': 1,\n",
       " 'id': 1,\n",
       " 'title': 'sunt aut facere repellat provident occaecati excepturi optio reprehenderit',\n",
       " 'body': 'quia et suscipit\\nsuscipit recusandae consequuntur expedita et cum\\nreprehenderit molestiae ut ut quas totam\\nnostrum rerum est autem sunt rem eveniet architecto'}"
      ]
     },
     "execution_count": 5,
     "metadata": {},
     "output_type": "execute_result"
    }
   ],
   "source": [
    "response.json()"
   ]
  },
  {
   "cell_type": "code",
   "execution_count": 6,
   "id": "56fd3fd1-3ead-4cbf-b3a4-54294b2fba4a",
   "metadata": {},
   "outputs": [],
   "source": [
    "url2 = \"https://jsonplaceholder.typicode.com/posts\"\n",
    "\n",
    "# Data to send in the post request\n",
    "data = {\n",
    "    \"title\": \"foo\",\n",
    "    \"body\": \"bar\",\n",
    "    \"userId\": 1\n",
    "}"
   ]
  },
  {
   "cell_type": "code",
   "execution_count": 7,
   "id": "1586a051-ebdb-4d89-a587-2185701a6f55",
   "metadata": {},
   "outputs": [],
   "source": [
    "response = requests.post(url2, json=data)"
   ]
  },
  {
   "cell_type": "markdown",
   "id": "189175e5-5430-4f62-b349-459e722837e6",
   "metadata": {},
   "source": [
    "Common Status Codes\n",
    "\n",
    "    200: OK (The request was successful).\n",
    "\n",
    "    201: Created (The resource was successfully created).\n",
    "\n",
    "    400: Bad Request (The server could not understand the request).\n",
    "\n",
    "    401: Unauthorized (Authentication is required).\n",
    "\n",
    "    404: Not Found (The requested resource could not be found).\n",
    "\n",
    "    500: Internal Server Error (The server encountered an error)."
   ]
  },
  {
   "cell_type": "code",
   "execution_count": 8,
   "id": "ebc18b30-15bb-49cd-869e-b4d1224a4bfd",
   "metadata": {},
   "outputs": [
    {
     "data": {
      "text/plain": [
       "{'title': 'foo', 'body': 'bar', 'userId': 1, 'id': 101}"
      ]
     },
     "execution_count": 8,
     "metadata": {},
     "output_type": "execute_result"
    }
   ],
   "source": [
    "response.json()"
   ]
  },
  {
   "cell_type": "markdown",
   "id": "768665cc-5bbf-43a8-a557-0760398d08bb",
   "metadata": {},
   "source": [
    "**Error Handling**"
   ]
  },
  {
   "cell_type": "code",
   "execution_count": 11,
   "id": "ca191c8d-589d-4efd-86a3-4e6c89800e93",
   "metadata": {},
   "outputs": [
    {
     "name": "stdout",
     "output_type": "stream",
     "text": [
      "Request was successful!\n",
      "{'userId': 1, 'id': 1, 'title': 'sunt aut facere repellat provident occaecati excepturi optio reprehenderit', 'body': 'quia et suscipit\\nsuscipit recusandae consequuntur expedita et cum\\nreprehenderit molestiae ut ut quas totam\\nnostrum rerum est autem sunt rem eveniet architecto'}\n"
     ]
    }
   ],
   "source": [
    "url = \"https://jsonplaceholder.typicode.com/posts/1\"\n",
    "\n",
    "response = requests.get(url)\n",
    "\n",
    "if response.status_code == 200:\n",
    "    print(\"Request was successful!\")\n",
    "    print(response.json())\n",
    "elif response.status_code == 404:\n",
    "    print(\"Not Found\")\n",
    "else:\n",
    "    print(f\"Failed with status code: {response.status_code}\")\n"
   ]
  },
  {
   "cell_type": "code",
   "execution_count": 20,
   "id": "2cef30d5-7346-49cf-8b5c-76a9abee8de3",
   "metadata": {},
   "outputs": [
    {
     "name": "stdout",
     "output_type": "stream",
     "text": [
      "Bitcoin Price: \n",
      "115316.033307031\n"
     ]
    }
   ],
   "source": [
    "url = \"https://data-api.coindesk.com/index/cc/v1/latest/tick?market=ccix&instruments=BTC-USD&api_key={YOUR_API_KEY_HERE}\"\n",
    "\n",
    "response = requests.get(url)\n",
    "\n",
    "if response.status_code == 200:\n",
    "    data = response.json()\n",
    "    print(\"Bitcoin Price: \")\n",
    "    print(data[\"Data\"][\"BTC-USD\"][\"VALUE\"])\n",
    "else:\n",
    "    print(\"Failed to retrieve data.\")"
   ]
  },
  {
   "cell_type": "code",
   "execution_count": 25,
   "id": "d01e42aa-1548-4279-8d48-1e54d73fcfdb",
   "metadata": {},
   "outputs": [
    {
     "name": "stdout",
     "output_type": "stream",
     "text": [
      "{'meta': {'last_updated_at': '2025-08-03T23:59:59Z'}, 'data': {'ADA': {'code': 'ADA', 'value': 1.3718716194}, 'AED': {'code': 'AED', 'value': 3.6724707181}, 'AFN': {'code': 'AFN', 'value': 68.6861314132}, 'ALL': {'code': 'ALL', 'value': 84.2704247428}, 'AMD': {'code': 'AMD', 'value': 382.8482983548}, 'ANG': {'code': 'ANG', 'value': 1.7400201879}, 'AOA': {'code': 'AOA', 'value': 909.7114558102}, 'ARB': {'code': 'ARB', 'value': 2.602928364}, 'ARS': {'code': 'ARS', 'value': 1360.8764336808}, 'AUD': {'code': 'AUD', 'value': 1.5457102854}, 'AVAX': {'code': 'AVAX', 'value': 0.046660151}, 'AWG': {'code': 'AWG', 'value': 1.79}, 'AZN': {'code': 'AZN', 'value': 1.7}, 'BAM': {'code': 'BAM', 'value': 1.6870902605}, 'BBD': {'code': 'BBD', 'value': 2}, 'BDT': {'code': 'BDT', 'value': 122.2775881914}, 'BGN': {'code': 'BGN', 'value': 1.7093302045}, 'BHD': {'code': 'BHD', 'value': 0.376}, 'BIF': {'code': 'BIF', 'value': 2934.4680542782}, 'BMD': {'code': 'BMD', 'value': 1}, 'BNB': {'code': 'BNB', 'value': 0.0013290495}, 'BND': {'code': 'BND', 'value': 1.2873601717}, 'BOB': {'code': 'BOB', 'value': 6.9182411616}, 'BRL': {'code': 'BRL', 'value': 5.5335509757}, 'BSD': {'code': 'BSD', 'value': 1}, 'BTC': {'code': 'BTC', 'value': 8.744e-06}, 'BTN': {'code': 'BTN', 'value': 80.1551758826}, 'BWP': {'code': 'BWP', 'value': 13.574901993}, 'BYN': {'code': 'BYN', 'value': 3.2799176298}, 'BYR': {'code': 'BYR', 'value': 32799.178048218}, 'BZD': {'code': 'BZD', 'value': 2}, 'CAD': {'code': 'CAD', 'value': 1.3777301926}, 'CDF': {'code': 'CDF', 'value': 2880.0646713114}, 'CHF': {'code': 'CHF', 'value': 0.8040201125}, 'CLF': {'code': 'CLF', 'value': 0.0243000041}, 'CLP': {'code': 'CLP', 'value': 968.9834012977}, 'CNY': {'code': 'CNY', 'value': 7.2055411602}, 'COP': {'code': 'COP', 'value': 4120.0644068343}, 'CRC': {'code': 'CRC', 'value': 503.9114603217}, 'CUC': {'code': 'CUC', 'value': 1}, 'CUP': {'code': 'CUP', 'value': 24}, 'CVE': {'code': 'CVE', 'value': 95.2496803808}, 'CZK': {'code': 'CZK', 'value': 21.1748338104}, 'DAI': {'code': 'DAI', 'value': 0.9974908406}, 'DJF': {'code': 'DJF', 'value': 177.721}, 'DKK': {'code': 'DKK', 'value': 6.4398607293}, 'DOP': {'code': 'DOP', 'value': 60.6259862541}, 'DOT': {'code': 'DOT', 'value': 0.2767263005}, 'DZD': {'code': 'DZD', 'value': 131.533698306}, 'EGP': {'code': 'EGP', 'value': 48.5965785017}, 'ERN': {'code': 'ERN', 'value': 15}, 'ETB': {'code': 'ETB', 'value': 137.9605295443}, 'ETH': {'code': 'ETH', 'value': 0.0002856837}, 'EUR': {'code': 'EUR', 'value': 0.8629901412}, 'FJD': {'code': 'FJD', 'value': 2.2898803396}, 'FKP': {'code': 'FKP', 'value': 0.7524353479}, 'GBP': {'code': 'GBP', 'value': 0.7524701221}, 'GEL': {'code': 'GEL', 'value': 2.7020903806}, 'GGP': {'code': 'GGP', 'value': 0.7524353556}, 'GHS': {'code': 'GHS', 'value': 10.4435013453}, 'GIP': {'code': 'GIP', 'value': 0.7524353406}, 'GMD': {'code': 'GMD', 'value': 72.5933179446}, 'GNF': {'code': 'GNF', 'value': 8698.2317151677}, 'GTQ': {'code': 'GTQ', 'value': 7.6537309475}, 'GYD': {'code': 'GYD', 'value': 208.729402802}, 'HKD': {'code': 'HKD', 'value': 7.8464408738}, 'HNL': {'code': 'HNL', 'value': 26.1974047771}, 'HRK': {'code': 'HRK', 'value': 6.3700106715}, 'HTG': {'code': 'HTG', 'value': 133.2726519993}, 'HUF': {'code': 'HUF', 'value': 343.1864435295}, 'IDR': {'code': 'IDR', 'value': 16461.747636302}, 'ILS': {'code': 'ILS', 'value': 3.414320436}, 'IMP': {'code': 'IMP', 'value': 0.7524353328}, 'INR': {'code': 'INR', 'value': 87.1478536023}, 'IQD': {'code': 'IQD', 'value': 1306.9920847327}, 'IRR': {'code': 'IRR', 'value': 41971.622140448}, 'ISK': {'code': 'ISK', 'value': 124.3453707838}, 'JEP': {'code': 'JEP', 'value': 0.7524353635}, 'JMD': {'code': 'JMD', 'value': 159.4118886299}, 'JOD': {'code': 'JOD', 'value': 0.71}, 'JPY': {'code': 'JPY', 'value': 147.3340323522}, 'KES': {'code': 'KES', 'value': 128.5693341968}, 'KGS': {'code': 'KGS', 'value': 86.6113548679}, 'KHR': {'code': 'KHR', 'value': 3997.4121853436}, 'KMF': {'code': 'KMF', 'value': 425.0903600159}, 'KPW': {'code': 'KPW', 'value': 900.0222605195}, 'KRW': {'code': 'KRW', 'value': 1388.5747896305}, 'KWD': {'code': 'KWD', 'value': 0.305220044}, 'KYD': {'code': 'KYD', 'value': 0.83333}, 'KZT': {'code': 'KZT', 'value': 541.6785298997}, 'LAK': {'code': 'LAK', 'value': 21520.139253146}, 'LBP': {'code': 'LBP', 'value': 89480.507070769}, 'LKR': {'code': 'LKR', 'value': 298.1339100872}, 'LRD': {'code': 'LRD', 'value': 200.878164688}, 'LSL': {'code': 'LSL', 'value': 18.0483228361}, 'LTC': {'code': 'LTC', 'value': 0.0090593486}, 'LTL': {'code': 'LTL', 'value': 2.9801966031}, 'LVL': {'code': 'LVL', 'value': 0.6066039905}, 'LYD': {'code': 'LYD', 'value': 5.4575907289}, 'MAD': {'code': 'MAD', 'value': 9.0603216944}, 'MATIC': {'code': 'MATIC', 'value': 4.9268613596}, 'MDL': {'code': 'MDL', 'value': 17.1097730979}, 'MGA': {'code': 'MGA', 'value': 4467.3509593884}, 'MKD': {'code': 'MKD', 'value': 52.6533558162}, 'MMK': {'code': 'MMK', 'value': 2096.5494920542}, 'MNT': {'code': 'MNT', 'value': 3592.5340248104}, 'MOP': {'code': 'MOP', 'value': 8.02342138}, 'MRO': {'code': 'MRO', 'value': 356.999828}, 'MRU': {'code': 'MRU', 'value': 39.8081048831}, 'MUR': {'code': 'MUR', 'value': 46.5103588372}, 'MVR': {'code': 'MVR', 'value': 15.4532925346}, 'MWK': {'code': 'MWK', 'value': 1732.2495639628}, 'MXN': {'code': 'MXN', 'value': 18.86106253}, 'MYR': {'code': 'MYR', 'value': 4.2728807848}, 'MZN': {'code': 'MZN', 'value': 63.4873193233}, 'NAD': {'code': 'NAD', 'value': 17.9984330825}, 'NGN': {'code': 'NGN', 'value': 1528.232760048}, 'NIO': {'code': 'NIO', 'value': 36.7998038018}, 'NOK': {'code': 'NOK', 'value': 10.2498917253}, 'NPR': {'code': 'NPR', 'value': 138.5181055033}, 'NZD': {'code': 'NZD', 'value': 1.6910102333}, 'OMR': {'code': 'OMR', 'value': 0.3837800546}, 'OP': {'code': 'OP', 'value': 1.5194472823}, 'PAB': {'code': 'PAB', 'value': 0.9992701101}, 'PEN': {'code': 'PEN', 'value': 3.5780505194}, 'PGK': {'code': 'PGK', 'value': 4.0769105105}, 'PHP': {'code': 'PHP', 'value': 57.6535858208}, 'PKR': {'code': 'PKR', 'value': 282.3915282666}, 'PLN': {'code': 'PLN', 'value': 3.6773807025}, 'PYG': {'code': 'PYG', 'value': 7441.6624035116}, 'QAR': {'code': 'QAR', 'value': 3.6363204493}, 'RON': {'code': 'RON', 'value': 4.3805907717}, 'RSD': {'code': 'RSD', 'value': 101.578693613}, 'RUB': {'code': 'RUB', 'value': 79.9489883765}, 'RWF': {'code': 'RWF', 'value': 1443.27917075}, 'SAR': {'code': 'SAR', 'value': 3.7450704077}, 'SBD': {'code': 'SBD', 'value': 8.3963796175}, 'SCR': {'code': 'SCR', 'value': 14.9599723463}, 'SDG': {'code': 'SDG', 'value': 601.5}, 'SEK': {'code': 'SEK', 'value': 9.642431417}, 'SGD': {'code': 'SGD', 'value': 1.2880301753}, 'SHP': {'code': 'SHP', 'value': 0.7524700811}, 'SLE': {'code': 'SLE', 'value': 22.6797891713}, 'SLL': {'code': 'SLL', 'value': 22595.792303698}, 'SOL': {'code': 'SOL', 'value': 0.0061732029}, 'SOS': {'code': 'SOS', 'value': 568.4777186128}, 'SRD': {'code': 'SRD', 'value': 36.5761953091}, 'STD': {'code': 'STD', 'value': 21416.371217227}, 'STN': {'code': 'STN', 'value': 21.4163702117}, 'SVC': {'code': 'SVC', 'value': 8.75}, 'SYP': {'code': 'SYP', 'value': 13001.779278538}, 'SZL': {'code': 'SZL', 'value': 17.9976124424}, 'THB': {'code': 'THB', 'value': 32.4650151271}, 'TJS': {'code': 'TJS', 'value': 9.4382816381}, 'TMT': {'code': 'TMT', 'value': 3.5}, 'TND': {'code': 'TND', 'value': 2.8901404544}, 'TOP': {'code': 'TOP', 'value': 2.3772302544}, 'TRY': {'code': 'TRY', 'value': 40.6729366104}, 'TTD': {'code': 'TTD', 'value': 6.7599609519}, 'TWD': {'code': 'TWD', 'value': 29.8388240703}, 'TZS': {'code': 'TZS', 'value': 2500.3465838756}, 'UAH': {'code': 'UAH', 'value': 41.8093847948}, 'UGX': {'code': 'UGX', 'value': 3578.7991463948}, 'USD': {'code': 'USD', 'value': 1}, 'USDC': {'code': 'USDC', 'value': 0.9995171147}, 'USDT': {'code': 'USDT', 'value': 0.9970213775}, 'UYU': {'code': 'UYU', 'value': 40.2058859646}, 'UZS': {'code': 'UZS', 'value': 12748.466421365}, 'VEF': {'code': 'VEF', 'value': 12612367.79165}, 'VES': {'code': 'VES', 'value': 126.1236824176}, 'VND': {'code': 'VND', 'value': 26163.996967435}, 'VUV': {'code': 'VUV', 'value': 120.4122340682}, 'WST': {'code': 'WST', 'value': 2.7682073075}, 'XAF': {'code': 'XAF', 'value': 566.0193535566}, 'XAG': {'code': 'XAG', 'value': 0.0270115907}, 'XAU': {'code': 'XAU', 'value': 0.0002975191}, 'XCD': {'code': 'XCD', 'value': 2.7}, 'XDR': {'code': 'XDR', 'value': 0.732240116}, 'XOF': {'code': 'XOF', 'value': 566.0193531167}, 'XPD': {'code': 'XPD', 'value': 0.0008265062}, 'XPF': {'code': 'XPF', 'value': 102.889493631}, 'XPT': {'code': 'XPT', 'value': 0.0007567183}, 'XRP': {'code': 'XRP', 'value': 0.3388767267}, 'YER': {'code': 'YER', 'value': 239.8755812677}, 'ZAR': {'code': 'ZAR', 'value': 18.0163422753}, 'ZMK': {'code': 'ZMK', 'value': 9001.2}, 'ZMW': {'code': 'ZMW', 'value': 22.9234943562}, 'ZWG': {'code': 'ZWG', 'value': 26.8147471365}, 'ZWL': {'code': 'ZWL', 'value': 67002.659495407}}}\n"
     ]
    }
   ],
   "source": [
    "url = \"https://api.currencyapi.com/v3/latest?apikey=cur_live_AafOSHLFVa42cHGbh0E7p0DeB9BYfdPdkgmovAeU\"\n",
    "\n",
    "response = requests.get(url)\n",
    "\n",
    "if response.status_code == 200:\n",
    "    data = response.json()\n",
    "    print(data)\n",
    "else:\n",
    "    print(\"Failed to retrieve data\")"
   ]
  },
  {
   "cell_type": "code",
   "execution_count": 30,
   "id": "de9fe8ff-8ef9-472c-9866-2c323196b598",
   "metadata": {},
   "outputs": [
    {
     "name": "stdout",
     "output_type": "stream",
     "text": [
      "Conversion from USD to other countries: \n",
      "India: 87.1478536023 Rupees\n",
      "Singapore: 1.2880301753 Singapore Dollars\n"
     ]
    }
   ],
   "source": [
    "if response.status_code == 200:\n",
    "    data = response.json()\n",
    "    print(\"Conversion from USD to other countries: \")\n",
    "    print(f\"India: {data['data']['INR']['value']} Rupees\")\n",
    "    print(f\"Singapore: {data['data']['SGD']['value']} Singapore Dollars\")\n",
    "else:\n",
    "    print(\"Failed to retrieve data\")"
   ]
  },
  {
   "cell_type": "code",
   "execution_count": null,
   "id": "b8f26d63-794d-4b20-b301-50af1be40d9f",
   "metadata": {},
   "outputs": [],
   "source": []
  }
 ],
 "metadata": {
  "kernelspec": {
   "display_name": "Python 3 (ipykernel)",
   "language": "python",
   "name": "python3"
  },
  "language_info": {
   "codemirror_mode": {
    "name": "ipython",
    "version": 3
   },
   "file_extension": ".py",
   "mimetype": "text/x-python",
   "name": "python",
   "nbconvert_exporter": "python",
   "pygments_lexer": "ipython3",
   "version": "3.11.7"
  }
 },
 "nbformat": 4,
 "nbformat_minor": 5
}
