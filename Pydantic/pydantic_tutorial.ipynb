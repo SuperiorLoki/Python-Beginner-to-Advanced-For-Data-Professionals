{
 "cells": [
  {
   "cell_type": "code",
   "execution_count": 1,
   "id": "f3c25ecf-679b-41d1-9eed-e02fd51ac133",
   "metadata": {},
   "outputs": [],
   "source": [
    "class User:\n",
    "    def __init__(self, user_id, name, age):\n",
    "        self.name = name\n",
    "        self.user_id = user_id\n",
    "        self.age=age\n"
   ]
  },
  {
   "cell_type": "code",
   "execution_count": 5,
   "id": "6397b419-dd0e-4047-895b-8a398afeeebd",
   "metadata": {},
   "outputs": [
    {
     "data": {
      "text/plain": [
       "'18 years old'"
      ]
     },
     "execution_count": 5,
     "metadata": {},
     "output_type": "execute_result"
    }
   ],
   "source": [
    "HP = User(11, \"Hirithik Pranav\", \"18 years old\")\n",
    "HP.age"
   ]
  },
  {
   "cell_type": "code",
   "execution_count": 23,
   "id": "0b8725bc-c014-4a0b-87bd-35d668c27a7e",
   "metadata": {},
   "outputs": [],
   "source": [
    "from pydantic import BaseModel\n",
    "from typing import Optional\n",
    "\n",
    "class User(BaseModel):\n",
    "    #type hints to ensure that we connect variables to types\n",
    "    id: int\n",
    "    name: str\n",
    "    age:int\n",
    "    address: Optional[str]\n",
    "    student: bool\n",
    "    student = True\n",
    "    \n",
    "    "
   ]
  },
  {
   "cell_type": "code",
   "execution_count": 31,
   "id": "49ed25a7-3fe4-4d9e-9f3a-75b05bb98718",
   "metadata": {},
   "outputs": [],
   "source": [
    "HPB = User(id=11, name=\"Hirithik Pranav B.\",age=\"18\", address = \"7906 Persimmon Ave.\")"
   ]
  },
  {
   "cell_type": "code",
   "execution_count": 32,
   "id": "eba847da-95c3-49fe-876c-f254fa4bbf0b",
   "metadata": {},
   "outputs": [
    {
     "data": {
      "text/plain": [
       "'Hirithik Pranav B.'"
      ]
     },
     "execution_count": 32,
     "metadata": {},
     "output_type": "execute_result"
    }
   ],
   "source": [
    "HPB.name"
   ]
  },
  {
   "cell_type": "code",
   "execution_count": 33,
   "id": "b5a966ec-2f97-48b2-b4b6-cc3a5381e5af",
   "metadata": {},
   "outputs": [
    {
     "data": {
      "text/plain": [
       "True"
      ]
     },
     "execution_count": 33,
     "metadata": {},
     "output_type": "execute_result"
    }
   ],
   "source": [
    "HPB.student"
   ]
  },
  {
   "cell_type": "code",
   "execution_count": 34,
   "id": "110a07cc-40c3-493b-8d43-5932a2514aac",
   "metadata": {},
   "outputs": [
    {
     "data": {
      "text/plain": [
       "'7906 Persimmon Ave.'"
      ]
     },
     "execution_count": 34,
     "metadata": {},
     "output_type": "execute_result"
    }
   ],
   "source": [
    "HPB.address"
   ]
  },
  {
   "cell_type": "code",
   "execution_count": null,
   "id": "ea6918c3-bd66-4d07-b14f-6ce38509a48f",
   "metadata": {},
   "outputs": [],
   "source": []
  }
 ],
 "metadata": {
  "kernelspec": {
   "display_name": "Python 3 (ipykernel)",
   "language": "python",
   "name": "python3"
  },
  "language_info": {
   "codemirror_mode": {
    "name": "ipython",
    "version": 3
   },
   "file_extension": ".py",
   "mimetype": "text/x-python",
   "name": "python",
   "nbconvert_exporter": "python",
   "pygments_lexer": "ipython3",
   "version": "3.11.7"
  }
 },
 "nbformat": 4,
 "nbformat_minor": 5
}
